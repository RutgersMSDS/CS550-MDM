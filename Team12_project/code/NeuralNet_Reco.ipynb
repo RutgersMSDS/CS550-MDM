{
  "nbformat": 4,
  "nbformat_minor": 0,
  "metadata": {
    "colab": {
      "name": "Recommendation_Engine.ipynb",
      "provenance": [],
      "machine_shape": "hm"
    },
    "kernelspec": {
      "name": "python3",
      "display_name": "Python 3"
    },
    "accelerator": "GPU"
  },
  "cells": [
    {
      "cell_type": "code",
      "metadata": {
        "id": "j4lyojwDO3-A",
        "colab_type": "code",
        "outputId": "fc6d04f3-b0df-4d3c-f1b2-a2d897ff3047",
        "colab": {
          "base_uri": "https://localhost:8080/",
          "height": 124
        }
      },
      "source": [
        "from google.colab import drive\n",
        "drive.mount('/content/gdrive', force_remount=True)"
      ],
      "execution_count": 1,
      "outputs": [
        {
          "output_type": "stream",
          "text": [
            "Go to this URL in a browser: https://accounts.google.com/o/oauth2/auth?client_id=947318989803-6bn6qk8qdgf4n4g3pfee6491hc0brc4i.apps.googleusercontent.com&redirect_uri=urn%3aietf%3awg%3aoauth%3a2.0%3aoob&response_type=code&scope=email%20https%3a%2f%2fwww.googleapis.com%2fauth%2fdocs.test%20https%3a%2f%2fwww.googleapis.com%2fauth%2fdrive%20https%3a%2f%2fwww.googleapis.com%2fauth%2fdrive.photos.readonly%20https%3a%2f%2fwww.googleapis.com%2fauth%2fpeopleapi.readonly\n",
            "\n",
            "Enter your authorization code:\n",
            "··········\n",
            "Mounted at /content/gdrive\n"
          ],
          "name": "stdout"
        }
      ]
    },
    {
      "cell_type": "code",
      "metadata": {
        "id": "R9SM6oEyO7R3",
        "colab_type": "code",
        "outputId": "bbf477b7-e8b9-4f34-cf37-ad504bbf91b3",
        "colab": {
          "base_uri": "https://localhost:8080/",
          "height": 34
        }
      },
      "source": [
        "%cd gdrive/My Drive/ml-latest"
      ],
      "execution_count": 2,
      "outputs": [
        {
          "output_type": "stream",
          "text": [
            "/content/gdrive/My Drive/ml-latest\n"
          ],
          "name": "stdout"
        }
      ]
    },
    {
      "cell_type": "code",
      "metadata": {
        "id": "oAQ4YfGBO7fs",
        "colab_type": "code",
        "outputId": "ed7fa5ba-fb3e-4cff-d82f-446d4f328f65",
        "colab": {
          "base_uri": "https://localhost:8080/",
          "height": 69
        }
      },
      "source": [
        "%ls"
      ],
      "execution_count": 3,
      "outputs": [
        {
          "output_type": "stream",
          "text": [
            "genome-scores.csv  movies.csv   reco_NeuralNmodel.h5  test.csv\n",
            "genome-tags.csv    ratings.csv  reco_NNmodel.h5       test_Neural.csv\n",
            "links.csv          README.txt   tags.csv\n"
          ],
          "name": "stdout"
        }
      ]
    },
    {
      "cell_type": "code",
      "metadata": {
        "id": "6Nesy4LoO7lR",
        "colab_type": "code",
        "colab": {}
      },
      "source": [
        "import pandas as pd"
      ],
      "execution_count": 0,
      "outputs": []
    },
    {
      "cell_type": "code",
      "metadata": {
        "id": "gV0OhbOXO7pL",
        "colab_type": "code",
        "outputId": "171bd96d-64f3-4c74-826c-ffd4e1e20c39",
        "colab": {
          "base_uri": "https://localhost:8080/",
          "height": 206
        }
      },
      "source": [
        "orig_df = pd.read_csv(\"ratings.csv\")\n",
        "orig_df.head()"
      ],
      "execution_count": 5,
      "outputs": [
        {
          "output_type": "execute_result",
          "data": {
            "text/html": [
              "<div>\n",
              "<style scoped>\n",
              "    .dataframe tbody tr th:only-of-type {\n",
              "        vertical-align: middle;\n",
              "    }\n",
              "\n",
              "    .dataframe tbody tr th {\n",
              "        vertical-align: top;\n",
              "    }\n",
              "\n",
              "    .dataframe thead th {\n",
              "        text-align: right;\n",
              "    }\n",
              "</style>\n",
              "<table border=\"1\" class=\"dataframe\">\n",
              "  <thead>\n",
              "    <tr style=\"text-align: right;\">\n",
              "      <th></th>\n",
              "      <th>userId</th>\n",
              "      <th>movieId</th>\n",
              "      <th>rating</th>\n",
              "      <th>timestamp</th>\n",
              "    </tr>\n",
              "  </thead>\n",
              "  <tbody>\n",
              "    <tr>\n",
              "      <th>0</th>\n",
              "      <td>1</td>\n",
              "      <td>307</td>\n",
              "      <td>3.5</td>\n",
              "      <td>1256677221</td>\n",
              "    </tr>\n",
              "    <tr>\n",
              "      <th>1</th>\n",
              "      <td>1</td>\n",
              "      <td>481</td>\n",
              "      <td>3.5</td>\n",
              "      <td>1256677456</td>\n",
              "    </tr>\n",
              "    <tr>\n",
              "      <th>2</th>\n",
              "      <td>1</td>\n",
              "      <td>1091</td>\n",
              "      <td>1.5</td>\n",
              "      <td>1256677471</td>\n",
              "    </tr>\n",
              "    <tr>\n",
              "      <th>3</th>\n",
              "      <td>1</td>\n",
              "      <td>1257</td>\n",
              "      <td>4.5</td>\n",
              "      <td>1256677460</td>\n",
              "    </tr>\n",
              "    <tr>\n",
              "      <th>4</th>\n",
              "      <td>1</td>\n",
              "      <td>1449</td>\n",
              "      <td>4.5</td>\n",
              "      <td>1256677264</td>\n",
              "    </tr>\n",
              "  </tbody>\n",
              "</table>\n",
              "</div>"
            ],
            "text/plain": [
              "   userId  movieId  rating   timestamp\n",
              "0       1      307     3.5  1256677221\n",
              "1       1      481     3.5  1256677456\n",
              "2       1     1091     1.5  1256677471\n",
              "3       1     1257     4.5  1256677460\n",
              "4       1     1449     4.5  1256677264"
            ]
          },
          "metadata": {
            "tags": []
          },
          "execution_count": 5
        }
      ]
    },
    {
      "cell_type": "code",
      "metadata": {
        "id": "fbKdoGcC1JQX",
        "colab_type": "code",
        "colab": {
          "base_uri": "https://localhost:8080/",
          "height": 206
        },
        "outputId": "9ad9954d-55ad-4ae3-b434-ef1f8efbb377"
      },
      "source": [
        "orig_df['movieIdCat'] = orig_df.movieId.astype('category').cat.codes.values\n",
        "orig_df['userIdCat'] = orig_df.userId.astype('category').cat.codes.values\n",
        "orig_df.head()"
      ],
      "execution_count": 6,
      "outputs": [
        {
          "output_type": "execute_result",
          "data": {
            "text/html": [
              "<div>\n",
              "<style scoped>\n",
              "    .dataframe tbody tr th:only-of-type {\n",
              "        vertical-align: middle;\n",
              "    }\n",
              "\n",
              "    .dataframe tbody tr th {\n",
              "        vertical-align: top;\n",
              "    }\n",
              "\n",
              "    .dataframe thead th {\n",
              "        text-align: right;\n",
              "    }\n",
              "</style>\n",
              "<table border=\"1\" class=\"dataframe\">\n",
              "  <thead>\n",
              "    <tr style=\"text-align: right;\">\n",
              "      <th></th>\n",
              "      <th>userId</th>\n",
              "      <th>movieId</th>\n",
              "      <th>rating</th>\n",
              "      <th>timestamp</th>\n",
              "      <th>movieIdCat</th>\n",
              "      <th>userIdCat</th>\n",
              "    </tr>\n",
              "  </thead>\n",
              "  <tbody>\n",
              "    <tr>\n",
              "      <th>0</th>\n",
              "      <td>1</td>\n",
              "      <td>307</td>\n",
              "      <td>3.5</td>\n",
              "      <td>1256677221</td>\n",
              "      <td>304</td>\n",
              "      <td>0</td>\n",
              "    </tr>\n",
              "    <tr>\n",
              "      <th>1</th>\n",
              "      <td>1</td>\n",
              "      <td>481</td>\n",
              "      <td>3.5</td>\n",
              "      <td>1256677456</td>\n",
              "      <td>477</td>\n",
              "      <td>0</td>\n",
              "    </tr>\n",
              "    <tr>\n",
              "      <th>2</th>\n",
              "      <td>1</td>\n",
              "      <td>1091</td>\n",
              "      <td>1.5</td>\n",
              "      <td>1256677471</td>\n",
              "      <td>1069</td>\n",
              "      <td>0</td>\n",
              "    </tr>\n",
              "    <tr>\n",
              "      <th>3</th>\n",
              "      <td>1</td>\n",
              "      <td>1257</td>\n",
              "      <td>4.5</td>\n",
              "      <td>1256677460</td>\n",
              "      <td>1229</td>\n",
              "      <td>0</td>\n",
              "    </tr>\n",
              "    <tr>\n",
              "      <th>4</th>\n",
              "      <td>1</td>\n",
              "      <td>1449</td>\n",
              "      <td>4.5</td>\n",
              "      <td>1256677264</td>\n",
              "      <td>1414</td>\n",
              "      <td>0</td>\n",
              "    </tr>\n",
              "  </tbody>\n",
              "</table>\n",
              "</div>"
            ],
            "text/plain": [
              "   userId  movieId  rating   timestamp  movieIdCat  userIdCat\n",
              "0       1      307     3.5  1256677221         304          0\n",
              "1       1      481     3.5  1256677456         477          0\n",
              "2       1     1091     1.5  1256677471        1069          0\n",
              "3       1     1257     4.5  1256677460        1229          0\n",
              "4       1     1449     4.5  1256677264        1414          0"
            ]
          },
          "metadata": {
            "tags": []
          },
          "execution_count": 6
        }
      ]
    },
    {
      "cell_type": "code",
      "metadata": {
        "id": "3TkRBqkQ0thT",
        "colab_type": "code",
        "colab": {}
      },
      "source": [
        "idx = orig_df.groupby('userId').apply(lambda x: x.sample(frac=0.8, random_state = 0)).index.get_level_values(1)\n",
        "\n",
        "train = orig_df.iloc[idx, :].reset_index(drop = True)\n",
        "test = orig_df.drop(idx).reset_index(drop = True)"
      ],
      "execution_count": 0,
      "outputs": []
    },
    {
      "cell_type": "code",
      "metadata": {
        "id": "72IFvPSE0tnc",
        "colab_type": "code",
        "colab": {
          "base_uri": "https://localhost:8080/",
          "height": 424
        },
        "outputId": "9c8c88e5-5dbe-4ea9-d4f9-165b9c603f62"
      },
      "source": [
        "train.head(100)"
      ],
      "execution_count": 8,
      "outputs": [
        {
          "output_type": "execute_result",
          "data": {
            "text/html": [
              "<div>\n",
              "<style scoped>\n",
              "    .dataframe tbody tr th:only-of-type {\n",
              "        vertical-align: middle;\n",
              "    }\n",
              "\n",
              "    .dataframe tbody tr th {\n",
              "        vertical-align: top;\n",
              "    }\n",
              "\n",
              "    .dataframe thead th {\n",
              "        text-align: right;\n",
              "    }\n",
              "</style>\n",
              "<table border=\"1\" class=\"dataframe\">\n",
              "  <thead>\n",
              "    <tr style=\"text-align: right;\">\n",
              "      <th></th>\n",
              "      <th>userId</th>\n",
              "      <th>movieId</th>\n",
              "      <th>rating</th>\n",
              "      <th>timestamp</th>\n",
              "      <th>movieIdCat</th>\n",
              "      <th>userIdCat</th>\n",
              "    </tr>\n",
              "  </thead>\n",
              "  <tbody>\n",
              "    <tr>\n",
              "      <th>0</th>\n",
              "      <td>1</td>\n",
              "      <td>481</td>\n",
              "      <td>3.5</td>\n",
              "      <td>1256677456</td>\n",
              "      <td>477</td>\n",
              "      <td>0</td>\n",
              "    </tr>\n",
              "    <tr>\n",
              "      <th>1</th>\n",
              "      <td>1</td>\n",
              "      <td>1591</td>\n",
              "      <td>1.5</td>\n",
              "      <td>1256677475</td>\n",
              "      <td>1539</td>\n",
              "      <td>0</td>\n",
              "    </tr>\n",
              "    <tr>\n",
              "      <th>2</th>\n",
              "      <td>1</td>\n",
              "      <td>2478</td>\n",
              "      <td>4.0</td>\n",
              "      <td>1256677239</td>\n",
              "      <td>2394</td>\n",
              "      <td>0</td>\n",
              "    </tr>\n",
              "    <tr>\n",
              "      <th>3</th>\n",
              "      <td>1</td>\n",
              "      <td>2840</td>\n",
              "      <td>3.0</td>\n",
              "      <td>1256677500</td>\n",
              "      <td>2755</td>\n",
              "      <td>0</td>\n",
              "    </tr>\n",
              "    <tr>\n",
              "      <th>4</th>\n",
              "      <td>1</td>\n",
              "      <td>3698</td>\n",
              "      <td>3.5</td>\n",
              "      <td>1256677243</td>\n",
              "      <td>3608</td>\n",
              "      <td>0</td>\n",
              "    </tr>\n",
              "    <tr>\n",
              "      <th>...</th>\n",
              "      <td>...</td>\n",
              "      <td>...</td>\n",
              "      <td>...</td>\n",
              "      <td>...</td>\n",
              "      <td>...</td>\n",
              "      <td>...</td>\n",
              "    </tr>\n",
              "    <tr>\n",
              "      <th>95</th>\n",
              "      <td>4</td>\n",
              "      <td>8622</td>\n",
              "      <td>4.0</td>\n",
              "      <td>1113796513</td>\n",
              "      <td>7939</td>\n",
              "      <td>3</td>\n",
              "    </tr>\n",
              "    <tr>\n",
              "      <th>96</th>\n",
              "      <td>4</td>\n",
              "      <td>6104</td>\n",
              "      <td>4.5</td>\n",
              "      <td>1113796011</td>\n",
              "      <td>6006</td>\n",
              "      <td>3</td>\n",
              "    </tr>\n",
              "    <tr>\n",
              "      <th>97</th>\n",
              "      <td>4</td>\n",
              "      <td>2672</td>\n",
              "      <td>4.5</td>\n",
              "      <td>1114050326</td>\n",
              "      <td>2587</td>\n",
              "      <td>3</td>\n",
              "    </tr>\n",
              "    <tr>\n",
              "      <th>98</th>\n",
              "      <td>4</td>\n",
              "      <td>7573</td>\n",
              "      <td>4.0</td>\n",
              "      <td>1114050840</td>\n",
              "      <td>7376</td>\n",
              "      <td>3</td>\n",
              "    </tr>\n",
              "    <tr>\n",
              "      <th>99</th>\n",
              "      <td>4</td>\n",
              "      <td>1722</td>\n",
              "      <td>4.0</td>\n",
              "      <td>1117080089</td>\n",
              "      <td>1662</td>\n",
              "      <td>3</td>\n",
              "    </tr>\n",
              "  </tbody>\n",
              "</table>\n",
              "<p>100 rows × 6 columns</p>\n",
              "</div>"
            ],
            "text/plain": [
              "    userId  movieId  rating   timestamp  movieIdCat  userIdCat\n",
              "0        1      481     3.5  1256677456         477          0\n",
              "1        1     1591     1.5  1256677475        1539          0\n",
              "2        1     2478     4.0  1256677239        2394          0\n",
              "3        1     2840     3.0  1256677500        2755          0\n",
              "4        1     3698     3.5  1256677243        3608          0\n",
              "..     ...      ...     ...         ...         ...        ...\n",
              "95       4     8622     4.0  1113796513        7939          3\n",
              "96       4     6104     4.5  1113796011        6006          3\n",
              "97       4     2672     4.5  1114050326        2587          3\n",
              "98       4     7573     4.0  1114050840        7376          3\n",
              "99       4     1722     4.0  1117080089        1662          3\n",
              "\n",
              "[100 rows x 6 columns]"
            ]
          },
          "metadata": {
            "tags": []
          },
          "execution_count": 8
        }
      ]
    },
    {
      "cell_type": "code",
      "metadata": {
        "id": "8aggf-R10uSZ",
        "colab_type": "code",
        "colab": {
          "base_uri": "https://localhost:8080/",
          "height": 424
        },
        "outputId": "2a89bc14-e899-4801-f8e3-db5a294096e8"
      },
      "source": [
        "test.head(100)"
      ],
      "execution_count": 9,
      "outputs": [
        {
          "output_type": "execute_result",
          "data": {
            "text/html": [
              "<div>\n",
              "<style scoped>\n",
              "    .dataframe tbody tr th:only-of-type {\n",
              "        vertical-align: middle;\n",
              "    }\n",
              "\n",
              "    .dataframe tbody tr th {\n",
              "        vertical-align: top;\n",
              "    }\n",
              "\n",
              "    .dataframe thead th {\n",
              "        text-align: right;\n",
              "    }\n",
              "</style>\n",
              "<table border=\"1\" class=\"dataframe\">\n",
              "  <thead>\n",
              "    <tr style=\"text-align: right;\">\n",
              "      <th></th>\n",
              "      <th>userId</th>\n",
              "      <th>movieId</th>\n",
              "      <th>rating</th>\n",
              "      <th>timestamp</th>\n",
              "      <th>movieIdCat</th>\n",
              "      <th>userIdCat</th>\n",
              "    </tr>\n",
              "  </thead>\n",
              "  <tbody>\n",
              "    <tr>\n",
              "      <th>0</th>\n",
              "      <td>1</td>\n",
              "      <td>307</td>\n",
              "      <td>3.5</td>\n",
              "      <td>1256677221</td>\n",
              "      <td>304</td>\n",
              "      <td>0</td>\n",
              "    </tr>\n",
              "    <tr>\n",
              "      <th>1</th>\n",
              "      <td>1</td>\n",
              "      <td>1590</td>\n",
              "      <td>2.5</td>\n",
              "      <td>1256677236</td>\n",
              "      <td>1538</td>\n",
              "      <td>0</td>\n",
              "    </tr>\n",
              "    <tr>\n",
              "      <th>2</th>\n",
              "      <td>1</td>\n",
              "      <td>3424</td>\n",
              "      <td>4.5</td>\n",
              "      <td>1256677444</td>\n",
              "      <td>3336</td>\n",
              "      <td>0</td>\n",
              "    </tr>\n",
              "    <tr>\n",
              "      <th>3</th>\n",
              "      <td>2</td>\n",
              "      <td>170</td>\n",
              "      <td>3.5</td>\n",
              "      <td>1192913581</td>\n",
              "      <td>168</td>\n",
              "      <td>1</td>\n",
              "    </tr>\n",
              "    <tr>\n",
              "      <th>4</th>\n",
              "      <td>2</td>\n",
              "      <td>1296</td>\n",
              "      <td>4.5</td>\n",
              "      <td>1192913608</td>\n",
              "      <td>1267</td>\n",
              "      <td>1</td>\n",
              "    </tr>\n",
              "    <tr>\n",
              "      <th>...</th>\n",
              "      <td>...</td>\n",
              "      <td>...</td>\n",
              "      <td>...</td>\n",
              "      <td>...</td>\n",
              "      <td>...</td>\n",
              "      <td>...</td>\n",
              "    </tr>\n",
              "    <tr>\n",
              "      <th>95</th>\n",
              "      <td>4</td>\n",
              "      <td>3190</td>\n",
              "      <td>3.5</td>\n",
              "      <td>1113766176</td>\n",
              "      <td>3104</td>\n",
              "      <td>3</td>\n",
              "    </tr>\n",
              "    <tr>\n",
              "      <th>96</th>\n",
              "      <td>4</td>\n",
              "      <td>3264</td>\n",
              "      <td>3.5</td>\n",
              "      <td>1145937802</td>\n",
              "      <td>3178</td>\n",
              "      <td>3</td>\n",
              "    </tr>\n",
              "    <tr>\n",
              "      <th>97</th>\n",
              "      <td>4</td>\n",
              "      <td>3354</td>\n",
              "      <td>3.5</td>\n",
              "      <td>1113796563</td>\n",
              "      <td>3268</td>\n",
              "      <td>3</td>\n",
              "    </tr>\n",
              "    <tr>\n",
              "      <th>98</th>\n",
              "      <td>4</td>\n",
              "      <td>3388</td>\n",
              "      <td>3.0</td>\n",
              "      <td>1113766172</td>\n",
              "      <td>3301</td>\n",
              "      <td>3</td>\n",
              "    </tr>\n",
              "    <tr>\n",
              "      <th>99</th>\n",
              "      <td>4</td>\n",
              "      <td>3593</td>\n",
              "      <td>1.0</td>\n",
              "      <td>1115782046</td>\n",
              "      <td>3503</td>\n",
              "      <td>3</td>\n",
              "    </tr>\n",
              "  </tbody>\n",
              "</table>\n",
              "<p>100 rows × 6 columns</p>\n",
              "</div>"
            ],
            "text/plain": [
              "    userId  movieId  rating   timestamp  movieIdCat  userIdCat\n",
              "0        1      307     3.5  1256677221         304          0\n",
              "1        1     1590     2.5  1256677236        1538          0\n",
              "2        1     3424     4.5  1256677444        3336          0\n",
              "3        2      170     3.5  1192913581         168          1\n",
              "4        2     1296     4.5  1192913608        1267          1\n",
              "..     ...      ...     ...         ...         ...        ...\n",
              "95       4     3190     3.5  1113766176        3104          3\n",
              "96       4     3264     3.5  1145937802        3178          3\n",
              "97       4     3354     3.5  1113796563        3268          3\n",
              "98       4     3388     3.0  1113766172        3301          3\n",
              "99       4     3593     1.0  1115782046        3503          3\n",
              "\n",
              "[100 rows x 6 columns]"
            ]
          },
          "metadata": {
            "tags": []
          },
          "execution_count": 9
        }
      ]
    },
    {
      "cell_type": "code",
      "metadata": {
        "id": "_4Tnuh2B0uxY",
        "colab_type": "code",
        "colab": {
          "base_uri": "https://localhost:8080/",
          "height": 34
        },
        "outputId": "56611eb1-0ce3-45c0-bb4f-47b0294a0a24"
      },
      "source": [
        "import keras\n",
        "from IPython.display import SVG\n",
        "from keras.optimizers import Adam\n",
        "from keras.utils.vis_utils import model_to_dot\n",
        "n_users, n_movies = len(orig_df.userIdCat.unique()), len(orig_df.movieIdCat.unique())\n",
        "n_latent_factors = 3"
      ],
      "execution_count": 10,
      "outputs": [
        {
          "output_type": "stream",
          "text": [
            "Using TensorFlow backend.\n"
          ],
          "name": "stderr"
        }
      ]
    },
    {
      "cell_type": "code",
      "metadata": {
        "id": "jL-ps5YH0us5",
        "colab_type": "code",
        "colab": {}
      },
      "source": [
        "n_latent_factors_user = 5\n",
        "n_latent_factors_movie = 8\n",
        "\n",
        "movie_input = keras.layers.Input(shape=[1],name='Movie')\n",
        "movie_embedding = keras.layers.Embedding(n_movies + 1, n_latent_factors_movie, name='Movie-Embedding')(movie_input)\n",
        "movie_vec = keras.layers.Flatten(name='FlattenMovies')(movie_embedding)\n",
        "movie_vec = keras.layers.Dropout(0.2)(movie_vec)\n",
        "\n",
        "\n",
        "user_input = keras.layers.Input(shape=[1],name='User')\n",
        "user_vec = keras.layers.Flatten(name='FlattenUsers')(keras.layers.Embedding(n_users + 1, n_latent_factors_user,name='User-Embedding')(user_input))\n",
        "user_vec = keras.layers.Dropout(0.2)(user_vec)\n",
        "\n",
        "\n",
        "concat = keras.layers.concatenate([movie_vec, user_vec], axis=-1)\n",
        "concat_dropout = keras.layers.Dropout(0.2)(concat)\n",
        "dense = keras.layers.Dense(200,name='FullyConnected')(concat)\n",
        "dropout_1 = keras.layers.Dropout(0.2,name='Dropout')(dense)\n",
        "dense_2 = keras.layers.Dense(100,name='FullyConnected-1')(concat)\n",
        "dropout_2 = keras.layers.Dropout(0.2,name='Dropout')(dense_2)\n",
        "dense_3 = keras.layers.Dense(50,name='FullyConnected-2')(dense_2)\n",
        "dropout_3 = keras.layers.Dropout(0.2,name='Dropout')(dense_3)\n",
        "dense_4 = keras.layers.Dense(20,name='FullyConnected-3', activation='relu')(dense_3)\n",
        "\n",
        "\n",
        "result = keras.layers.Dense(1, activation='relu',name='Activation')(dense_4)\n",
        "adam = Adam(lr=0.005)\n",
        "model = keras.Model([user_input, movie_input], result)\n",
        "model.compile(optimizer=adam,loss= 'mean_absolute_error')"
      ],
      "execution_count": 0,
      "outputs": []
    },
    {
      "cell_type": "code",
      "metadata": {
        "id": "m6zHow__0uqG",
        "colab_type": "code",
        "colab": {
          "base_uri": "https://localhost:8080/",
          "height": 625
        },
        "outputId": "970bf205-ee9c-409f-8af6-b61cd3711c83"
      },
      "source": [
        "model.summary()"
      ],
      "execution_count": 12,
      "outputs": [
        {
          "output_type": "stream",
          "text": [
            "Model: \"model_1\"\n",
            "__________________________________________________________________________________________________\n",
            "Layer (type)                    Output Shape         Param #     Connected to                     \n",
            "==================================================================================================\n",
            "Movie (InputLayer)              (None, 1)            0                                            \n",
            "__________________________________________________________________________________________________\n",
            "User (InputLayer)               (None, 1)            0                                            \n",
            "__________________________________________________________________________________________________\n",
            "Movie-Embedding (Embedding)     (None, 1, 8)         431120      Movie[0][0]                      \n",
            "__________________________________________________________________________________________________\n",
            "User-Embedding (Embedding)      (None, 1, 5)         1416145     User[0][0]                       \n",
            "__________________________________________________________________________________________________\n",
            "FlattenMovies (Flatten)         (None, 8)            0           Movie-Embedding[0][0]            \n",
            "__________________________________________________________________________________________________\n",
            "FlattenUsers (Flatten)          (None, 5)            0           User-Embedding[0][0]             \n",
            "__________________________________________________________________________________________________\n",
            "dropout_1 (Dropout)             (None, 8)            0           FlattenMovies[0][0]              \n",
            "__________________________________________________________________________________________________\n",
            "dropout_2 (Dropout)             (None, 5)            0           FlattenUsers[0][0]               \n",
            "__________________________________________________________________________________________________\n",
            "concatenate_1 (Concatenate)     (None, 13)           0           dropout_1[0][0]                  \n",
            "                                                                 dropout_2[0][0]                  \n",
            "__________________________________________________________________________________________________\n",
            "FullyConnected-1 (Dense)        (None, 100)          1400        concatenate_1[0][0]              \n",
            "__________________________________________________________________________________________________\n",
            "FullyConnected-2 (Dense)        (None, 50)           5050        FullyConnected-1[0][0]           \n",
            "__________________________________________________________________________________________________\n",
            "FullyConnected-3 (Dense)        (None, 20)           1020        FullyConnected-2[0][0]           \n",
            "__________________________________________________________________________________________________\n",
            "Activation (Dense)              (None, 1)            21          FullyConnected-3[0][0]           \n",
            "==================================================================================================\n",
            "Total params: 1,854,756\n",
            "Trainable params: 1,854,756\n",
            "Non-trainable params: 0\n",
            "__________________________________________________________________________________________________\n"
          ],
          "name": "stdout"
        }
      ]
    },
    {
      "cell_type": "code",
      "metadata": {
        "id": "R-CQ9HL60unP",
        "colab_type": "code",
        "colab": {
          "base_uri": "https://localhost:8080/",
          "height": 419
        },
        "outputId": "2c59a3fe-9ae7-4faa-dc35-eb7ff24158ff"
      },
      "source": [
        "history = model.fit([train.userIdCat, train.movieIdCat], train.rating, epochs=10, verbose=1)"
      ],
      "execution_count": 13,
      "outputs": [
        {
          "output_type": "stream",
          "text": [
            "/usr/local/lib/python3.6/dist-packages/tensorflow/python/framework/indexed_slices.py:434: UserWarning: Converting sparse IndexedSlices to a dense Tensor of unknown shape. This may consume a large amount of memory.\n",
            "  \"Converting sparse IndexedSlices to a dense Tensor of unknown shape. \"\n"
          ],
          "name": "stderr"
        },
        {
          "output_type": "stream",
          "text": [
            "Epoch 1/10\n",
            "22207659/22207659 [==============================] - 3365s 152us/step - loss: 0.6870\n",
            "Epoch 2/10\n",
            "22207659/22207659 [==============================] - 3319s 149us/step - loss: 0.6717\n",
            "Epoch 3/10\n",
            "22207659/22207659 [==============================] - 3347s 151us/step - loss: 0.6681\n",
            "Epoch 4/10\n",
            "22207659/22207659 [==============================] - 3347s 151us/step - loss: 0.6658\n",
            "Epoch 5/10\n",
            "22207659/22207659 [==============================] - 3390s 153us/step - loss: 0.6647\n",
            "Epoch 6/10\n",
            "22207659/22207659 [==============================] - 3439s 155us/step - loss: 0.6637\n",
            "Epoch 7/10\n",
            "22207659/22207659 [==============================] - 3440s 155us/step - loss: 0.6630\n",
            "Epoch 8/10\n",
            "22207659/22207659 [==============================] - 3397s 153us/step - loss: 0.6623\n",
            "Epoch 9/10\n",
            "22207659/22207659 [==============================] - 3316s 149us/step - loss: 0.6619\n",
            "Epoch 10/10\n",
            "22207659/22207659 [==============================] - 3338s 150us/step - loss: 0.6614\n"
          ],
          "name": "stdout"
        }
      ]
    },
    {
      "cell_type": "code",
      "metadata": {
        "id": "6Bwg-LVy0ukz",
        "colab_type": "code",
        "colab": {}
      },
      "source": [
        "model.save('reco_NNmodel.h5')"
      ],
      "execution_count": 0,
      "outputs": []
    },
    {
      "cell_type": "code",
      "metadata": {
        "id": "0tl7hS2k0uiz",
        "colab_type": "code",
        "colab": {}
      },
      "source": [
        "model.save('reco_NeuralNmodel.h5')"
      ],
      "execution_count": 0,
      "outputs": []
    },
    {
      "cell_type": "code",
      "metadata": {
        "id": "s7hXWoVa0uhJ",
        "colab_type": "code",
        "colab": {}
      },
      "source": [
        "test.head()\n",
        "test.to_csv('test_Neural.csv') "
      ],
      "execution_count": 0,
      "outputs": []
    },
    {
      "cell_type": "code",
      "metadata": {
        "id": "-xS4BbJN9T5h",
        "colab_type": "code",
        "colab": {
          "base_uri": "https://localhost:8080/",
          "height": 89
        },
        "outputId": "34779c90-8a7e-4134-c667-b2a8e49249b6"
      },
      "source": [
        "from keras.models import load_model\n",
        "model = load_model('reco_NeuralNmodel.h5')"
      ],
      "execution_count": 5,
      "outputs": [
        {
          "output_type": "stream",
          "text": [
            "Using TensorFlow backend.\n",
            "/usr/local/lib/python3.6/dist-packages/tensorflow/python/framework/indexed_slices.py:434: UserWarning: Converting sparse IndexedSlices to a dense Tensor of unknown shape. This may consume a large amount of memory.\n",
            "  \"Converting sparse IndexedSlices to a dense Tensor of unknown shape. \"\n"
          ],
          "name": "stderr"
        }
      ]
    },
    {
      "cell_type": "code",
      "metadata": {
        "id": "Ol_KMLEK9W0X",
        "colab_type": "code",
        "colab": {}
      },
      "source": [
        "test = pd.read_csv(\"test_Neural.csv\")"
      ],
      "execution_count": 0,
      "outputs": []
    },
    {
      "cell_type": "code",
      "metadata": {
        "id": "2x0LKLjg9h5_",
        "colab_type": "code",
        "colab": {
          "base_uri": "https://localhost:8080/",
          "height": 206
        },
        "outputId": "90e62e63-d931-4419-9b1c-7aeaea4ff599"
      },
      "source": [
        "test['predicted_rating'] = model.predict([test.userIdCat, test.movieIdCat])\n",
        "test.head()"
      ],
      "execution_count": 7,
      "outputs": [
        {
          "output_type": "execute_result",
          "data": {
            "text/html": [
              "<div>\n",
              "<style scoped>\n",
              "    .dataframe tbody tr th:only-of-type {\n",
              "        vertical-align: middle;\n",
              "    }\n",
              "\n",
              "    .dataframe tbody tr th {\n",
              "        vertical-align: top;\n",
              "    }\n",
              "\n",
              "    .dataframe thead th {\n",
              "        text-align: right;\n",
              "    }\n",
              "</style>\n",
              "<table border=\"1\" class=\"dataframe\">\n",
              "  <thead>\n",
              "    <tr style=\"text-align: right;\">\n",
              "      <th></th>\n",
              "      <th>Unnamed: 0</th>\n",
              "      <th>userId</th>\n",
              "      <th>movieId</th>\n",
              "      <th>rating</th>\n",
              "      <th>timestamp</th>\n",
              "      <th>movieIdCat</th>\n",
              "      <th>userIdCat</th>\n",
              "      <th>predicted_rating</th>\n",
              "    </tr>\n",
              "  </thead>\n",
              "  <tbody>\n",
              "    <tr>\n",
              "      <th>0</th>\n",
              "      <td>0</td>\n",
              "      <td>1</td>\n",
              "      <td>307</td>\n",
              "      <td>3.5</td>\n",
              "      <td>1256677221</td>\n",
              "      <td>304</td>\n",
              "      <td>0</td>\n",
              "      <td>4.469604</td>\n",
              "    </tr>\n",
              "    <tr>\n",
              "      <th>1</th>\n",
              "      <td>1</td>\n",
              "      <td>1</td>\n",
              "      <td>1590</td>\n",
              "      <td>2.5</td>\n",
              "      <td>1256677236</td>\n",
              "      <td>1538</td>\n",
              "      <td>0</td>\n",
              "      <td>3.297668</td>\n",
              "    </tr>\n",
              "    <tr>\n",
              "      <th>2</th>\n",
              "      <td>2</td>\n",
              "      <td>1</td>\n",
              "      <td>3424</td>\n",
              "      <td>4.5</td>\n",
              "      <td>1256677444</td>\n",
              "      <td>3336</td>\n",
              "      <td>0</td>\n",
              "      <td>4.222915</td>\n",
              "    </tr>\n",
              "    <tr>\n",
              "      <th>3</th>\n",
              "      <td>3</td>\n",
              "      <td>2</td>\n",
              "      <td>170</td>\n",
              "      <td>3.5</td>\n",
              "      <td>1192913581</td>\n",
              "      <td>168</td>\n",
              "      <td>1</td>\n",
              "      <td>2.990368</td>\n",
              "    </tr>\n",
              "    <tr>\n",
              "      <th>4</th>\n",
              "      <td>4</td>\n",
              "      <td>2</td>\n",
              "      <td>1296</td>\n",
              "      <td>4.5</td>\n",
              "      <td>1192913608</td>\n",
              "      <td>1267</td>\n",
              "      <td>1</td>\n",
              "      <td>3.957823</td>\n",
              "    </tr>\n",
              "  </tbody>\n",
              "</table>\n",
              "</div>"
            ],
            "text/plain": [
              "   Unnamed: 0  userId  movieId  ...  movieIdCat  userIdCat  predicted_rating\n",
              "0           0       1      307  ...         304          0          4.469604\n",
              "1           1       1     1590  ...        1538          0          3.297668\n",
              "2           2       1     3424  ...        3336          0          4.222915\n",
              "3           3       2      170  ...         168          1          2.990368\n",
              "4           4       2     1296  ...        1267          1          3.957823\n",
              "\n",
              "[5 rows x 8 columns]"
            ]
          },
          "metadata": {
            "tags": []
          },
          "execution_count": 7
        }
      ]
    },
    {
      "cell_type": "code",
      "metadata": {
        "id": "sKfTVoXy0ufI",
        "colab_type": "code",
        "colab": {
          "base_uri": "https://localhost:8080/",
          "height": 34
        },
        "outputId": "da41d2d4-8f81-4411-eec4-d72ce3fa0f59"
      },
      "source": [
        "from sklearn.metrics import mean_absolute_error\n",
        "print(mean_absolute_error(test['rating'], test['predicted_rating']))"
      ],
      "execution_count": 8,
      "outputs": [
        {
          "output_type": "stream",
          "text": [
            "0.6692100521015317\n"
          ],
          "name": "stdout"
        }
      ]
    },
    {
      "cell_type": "code",
      "metadata": {
        "id": "Jft58-hZ0ucN",
        "colab_type": "code",
        "colab": {
          "base_uri": "https://localhost:8080/",
          "height": 34
        },
        "outputId": "a390790e-5fa1-428a-8a99-d38d30fae944"
      },
      "source": [
        "from sklearn.metrics import mean_squared_error\n",
        "from math import sqrt\n",
        "\n",
        "rmse = sqrt(mean_squared_error(test['predicted_rating'], test['rating']))\n",
        "rmse"
      ],
      "execution_count": 9,
      "outputs": [
        {
          "output_type": "execute_result",
          "data": {
            "text/plain": [
              "0.9065490452470936"
            ]
          },
          "metadata": {
            "tags": []
          },
          "execution_count": 9
        }
      ]
    },
    {
      "cell_type": "code",
      "metadata": {
        "id": "IchxaKo60uaV",
        "colab_type": "code",
        "colab": {}
      },
      "source": [
        "test.head()\n",
        "test.to_csv('test_Neural.csv')"
      ],
      "execution_count": 0,
      "outputs": []
    },
    {
      "cell_type": "code",
      "metadata": {
        "id": "6op6vS3U0uWN",
        "colab_type": "code",
        "colab": {
          "base_uri": "https://localhost:8080/",
          "height": 424
        },
        "outputId": "543e50c7-7e68-47cd-928e-99c9a85e7a08"
      },
      "source": [
        "test[['userId', 'movieId', 'rating', 'predicted_rating']]"
      ],
      "execution_count": 10,
      "outputs": [
        {
          "output_type": "execute_result",
          "data": {
            "text/html": [
              "<div>\n",
              "<style scoped>\n",
              "    .dataframe tbody tr th:only-of-type {\n",
              "        vertical-align: middle;\n",
              "    }\n",
              "\n",
              "    .dataframe tbody tr th {\n",
              "        vertical-align: top;\n",
              "    }\n",
              "\n",
              "    .dataframe thead th {\n",
              "        text-align: right;\n",
              "    }\n",
              "</style>\n",
              "<table border=\"1\" class=\"dataframe\">\n",
              "  <thead>\n",
              "    <tr style=\"text-align: right;\">\n",
              "      <th></th>\n",
              "      <th>userId</th>\n",
              "      <th>movieId</th>\n",
              "      <th>rating</th>\n",
              "      <th>predicted_rating</th>\n",
              "    </tr>\n",
              "  </thead>\n",
              "  <tbody>\n",
              "    <tr>\n",
              "      <th>0</th>\n",
              "      <td>1</td>\n",
              "      <td>307</td>\n",
              "      <td>3.5</td>\n",
              "      <td>4.469604</td>\n",
              "    </tr>\n",
              "    <tr>\n",
              "      <th>1</th>\n",
              "      <td>1</td>\n",
              "      <td>1590</td>\n",
              "      <td>2.5</td>\n",
              "      <td>3.297668</td>\n",
              "    </tr>\n",
              "    <tr>\n",
              "      <th>2</th>\n",
              "      <td>1</td>\n",
              "      <td>3424</td>\n",
              "      <td>4.5</td>\n",
              "      <td>4.222915</td>\n",
              "    </tr>\n",
              "    <tr>\n",
              "      <th>3</th>\n",
              "      <td>2</td>\n",
              "      <td>170</td>\n",
              "      <td>3.5</td>\n",
              "      <td>2.990368</td>\n",
              "    </tr>\n",
              "    <tr>\n",
              "      <th>4</th>\n",
              "      <td>2</td>\n",
              "      <td>1296</td>\n",
              "      <td>4.5</td>\n",
              "      <td>3.957823</td>\n",
              "    </tr>\n",
              "    <tr>\n",
              "      <th>...</th>\n",
              "      <td>...</td>\n",
              "      <td>...</td>\n",
              "      <td>...</td>\n",
              "      <td>...</td>\n",
              "    </tr>\n",
              "    <tr>\n",
              "      <th>5545780</th>\n",
              "      <td>283228</td>\n",
              "      <td>6874</td>\n",
              "      <td>4.0</td>\n",
              "      <td>4.675764</td>\n",
              "    </tr>\n",
              "    <tr>\n",
              "      <th>5545781</th>\n",
              "      <td>283228</td>\n",
              "      <td>7072</td>\n",
              "      <td>5.0</td>\n",
              "      <td>4.781937</td>\n",
              "    </tr>\n",
              "    <tr>\n",
              "      <th>5545782</th>\n",
              "      <td>283228</td>\n",
              "      <td>7121</td>\n",
              "      <td>4.0</td>\n",
              "      <td>4.724939</td>\n",
              "    </tr>\n",
              "    <tr>\n",
              "      <th>5545783</th>\n",
              "      <td>283228</td>\n",
              "      <td>7132</td>\n",
              "      <td>4.5</td>\n",
              "      <td>4.927802</td>\n",
              "    </tr>\n",
              "    <tr>\n",
              "      <th>5545784</th>\n",
              "      <td>283228</td>\n",
              "      <td>8712</td>\n",
              "      <td>4.5</td>\n",
              "      <td>4.640836</td>\n",
              "    </tr>\n",
              "  </tbody>\n",
              "</table>\n",
              "<p>5545785 rows × 4 columns</p>\n",
              "</div>"
            ],
            "text/plain": [
              "         userId  movieId  rating  predicted_rating\n",
              "0             1      307     3.5          4.469604\n",
              "1             1     1590     2.5          3.297668\n",
              "2             1     3424     4.5          4.222915\n",
              "3             2      170     3.5          2.990368\n",
              "4             2     1296     4.5          3.957823\n",
              "...         ...      ...     ...               ...\n",
              "5545780  283228     6874     4.0          4.675764\n",
              "5545781  283228     7072     5.0          4.781937\n",
              "5545782  283228     7121     4.0          4.724939\n",
              "5545783  283228     7132     4.5          4.927802\n",
              "5545784  283228     8712     4.5          4.640836\n",
              "\n",
              "[5545785 rows x 4 columns]"
            ]
          },
          "metadata": {
            "tags": []
          },
          "execution_count": 10
        }
      ]
    },
    {
      "cell_type": "code",
      "metadata": {
        "id": "OcLwevik0uPq",
        "colab_type": "code",
        "colab": {}
      },
      "source": [
        "test[['userId', 'movieId', 'rating', 'predicted_rating']].to_csv('NeuralNet_Prediction.csv') "
      ],
      "execution_count": 0,
      "outputs": []
    },
    {
      "cell_type": "code",
      "metadata": {
        "id": "pQjHlk9W0uNQ",
        "colab_type": "code",
        "colab": {}
      },
      "source": [
        ""
      ],
      "execution_count": 0,
      "outputs": []
    },
    {
      "cell_type": "code",
      "metadata": {
        "id": "S6i_2hjW0uKr",
        "colab_type": "code",
        "colab": {}
      },
      "source": [
        ""
      ],
      "execution_count": 0,
      "outputs": []
    },
    {
      "cell_type": "code",
      "metadata": {
        "id": "TJE5tqbh0uH0",
        "colab_type": "code",
        "colab": {}
      },
      "source": [
        ""
      ],
      "execution_count": 0,
      "outputs": []
    },
    {
      "cell_type": "code",
      "metadata": {
        "id": "ObioC7kF0uFx",
        "colab_type": "code",
        "colab": {}
      },
      "source": [
        ""
      ],
      "execution_count": 0,
      "outputs": []
    },
    {
      "cell_type": "code",
      "metadata": {
        "id": "TXwvbmgv0uC3",
        "colab_type": "code",
        "colab": {}
      },
      "source": [
        ""
      ],
      "execution_count": 0,
      "outputs": []
    },
    {
      "cell_type": "code",
      "metadata": {
        "id": "_-Slv8Ey0uA8",
        "colab_type": "code",
        "colab": {}
      },
      "source": [
        ""
      ],
      "execution_count": 0,
      "outputs": []
    },
    {
      "cell_type": "code",
      "metadata": {
        "id": "GZMmhJmq0t-H",
        "colab_type": "code",
        "colab": {}
      },
      "source": [
        ""
      ],
      "execution_count": 0,
      "outputs": []
    },
    {
      "cell_type": "code",
      "metadata": {
        "id": "5S3jQzYf0t7w",
        "colab_type": "code",
        "colab": {}
      },
      "source": [
        ""
      ],
      "execution_count": 0,
      "outputs": []
    },
    {
      "cell_type": "code",
      "metadata": {
        "id": "OW5Pawxo0t5w",
        "colab_type": "code",
        "colab": {}
      },
      "source": [
        ""
      ],
      "execution_count": 0,
      "outputs": []
    },
    {
      "cell_type": "code",
      "metadata": {
        "id": "X8l6r8LV0t37",
        "colab_type": "code",
        "colab": {}
      },
      "source": [
        ""
      ],
      "execution_count": 0,
      "outputs": []
    },
    {
      "cell_type": "code",
      "metadata": {
        "id": "WP1g6lCv0t2T",
        "colab_type": "code",
        "colab": {}
      },
      "source": [
        ""
      ],
      "execution_count": 0,
      "outputs": []
    },
    {
      "cell_type": "code",
      "metadata": {
        "id": "V99RWMac0t0f",
        "colab_type": "code",
        "colab": {}
      },
      "source": [
        ""
      ],
      "execution_count": 0,
      "outputs": []
    },
    {
      "cell_type": "code",
      "metadata": {
        "id": "4iUVPpZ10tyf",
        "colab_type": "code",
        "colab": {}
      },
      "source": [
        ""
      ],
      "execution_count": 0,
      "outputs": []
    },
    {
      "cell_type": "code",
      "metadata": {
        "id": "ZjlcO7SV0twz",
        "colab_type": "code",
        "colab": {}
      },
      "source": [
        ""
      ],
      "execution_count": 0,
      "outputs": []
    },
    {
      "cell_type": "code",
      "metadata": {
        "id": "39vZ0etQ0ttv",
        "colab_type": "code",
        "colab": {}
      },
      "source": [
        ""
      ],
      "execution_count": 0,
      "outputs": []
    },
    {
      "cell_type": "code",
      "metadata": {
        "id": "qZU2ii1-0trx",
        "colab_type": "code",
        "colab": {}
      },
      "source": [
        ""
      ],
      "execution_count": 0,
      "outputs": []
    },
    {
      "cell_type": "code",
      "metadata": {
        "id": "0rzaAl5unAL5",
        "colab_type": "code",
        "outputId": "1e48381c-8028-4a55-b9ab-14bdfb5216f0",
        "colab": {
          "base_uri": "https://localhost:8080/",
          "height": 34
        }
      },
      "source": [
        "c = orig_df.userId.astype('category')\n",
        "\n",
        "d = dict(enumerate(c.cat.categories))\n",
        "print(d[0])"
      ],
      "execution_count": 0,
      "outputs": [
        {
          "output_type": "stream",
          "text": [
            "1\n"
          ],
          "name": "stdout"
        }
      ]
    },
    {
      "cell_type": "code",
      "metadata": {
        "id": "nAKbK9TloKFx",
        "colab_type": "code",
        "outputId": "5a2480bd-56d0-4960-e2d2-e3785ebbd174",
        "colab": {
          "base_uri": "https://localhost:8080/",
          "height": 34
        }
      },
      "source": [
        "c = orig_df.movieId.astype('category')\n",
        "\n",
        "d = dict(enumerate(c.cat.categories))\n",
        "print(d[10959])"
      ],
      "execution_count": 0,
      "outputs": [
        {
          "output_type": "stream",
          "text": [
            "44761\n"
          ],
          "name": "stdout"
        }
      ]
    },
    {
      "cell_type": "code",
      "metadata": {
        "id": "hXv3dXbCO7ul",
        "colab_type": "code",
        "colab": {}
      },
      "source": [
        "orig_df['movieIdCat'] = orig_df.movieId.astype('category').cat.codes.values\n",
        "orig_df['userIdCat'] = orig_df.userId.astype('category').cat.codes.values"
      ],
      "execution_count": 0,
      "outputs": []
    },
    {
      "cell_type": "code",
      "metadata": {
        "id": "aQWgx5i9dc6i",
        "colab_type": "code",
        "colab": {}
      },
      "source": [
        "orig_df[orig_df['movieId']==307]"
      ],
      "execution_count": 0,
      "outputs": []
    },
    {
      "cell_type": "code",
      "metadata": {
        "id": "F3VEaVXBubF3",
        "colab_type": "code",
        "outputId": "3744f16d-7e52-43b1-ec17-dee37f4e4f87",
        "colab": {
          "base_uri": "https://localhost:8080/",
          "height": 424
        }
      },
      "source": [
        "orig_df"
      ],
      "execution_count": 0,
      "outputs": [
        {
          "output_type": "execute_result",
          "data": {
            "text/html": [
              "<div>\n",
              "<style scoped>\n",
              "    .dataframe tbody tr th:only-of-type {\n",
              "        vertical-align: middle;\n",
              "    }\n",
              "\n",
              "    .dataframe tbody tr th {\n",
              "        vertical-align: top;\n",
              "    }\n",
              "\n",
              "    .dataframe thead th {\n",
              "        text-align: right;\n",
              "    }\n",
              "</style>\n",
              "<table border=\"1\" class=\"dataframe\">\n",
              "  <thead>\n",
              "    <tr style=\"text-align: right;\">\n",
              "      <th></th>\n",
              "      <th>userId</th>\n",
              "      <th>movieId</th>\n",
              "      <th>rating</th>\n",
              "      <th>timestamp</th>\n",
              "      <th>movieIdCat</th>\n",
              "      <th>userIdCat</th>\n",
              "    </tr>\n",
              "  </thead>\n",
              "  <tbody>\n",
              "    <tr>\n",
              "      <th>0</th>\n",
              "      <td>1</td>\n",
              "      <td>307</td>\n",
              "      <td>3.5</td>\n",
              "      <td>1256677221</td>\n",
              "      <td>304</td>\n",
              "      <td>0</td>\n",
              "    </tr>\n",
              "    <tr>\n",
              "      <th>1</th>\n",
              "      <td>1</td>\n",
              "      <td>481</td>\n",
              "      <td>3.5</td>\n",
              "      <td>1256677456</td>\n",
              "      <td>477</td>\n",
              "      <td>0</td>\n",
              "    </tr>\n",
              "    <tr>\n",
              "      <th>2</th>\n",
              "      <td>1</td>\n",
              "      <td>1091</td>\n",
              "      <td>1.5</td>\n",
              "      <td>1256677471</td>\n",
              "      <td>1069</td>\n",
              "      <td>0</td>\n",
              "    </tr>\n",
              "    <tr>\n",
              "      <th>3</th>\n",
              "      <td>1</td>\n",
              "      <td>1257</td>\n",
              "      <td>4.5</td>\n",
              "      <td>1256677460</td>\n",
              "      <td>1229</td>\n",
              "      <td>0</td>\n",
              "    </tr>\n",
              "    <tr>\n",
              "      <th>4</th>\n",
              "      <td>1</td>\n",
              "      <td>1449</td>\n",
              "      <td>4.5</td>\n",
              "      <td>1256677264</td>\n",
              "      <td>1414</td>\n",
              "      <td>0</td>\n",
              "    </tr>\n",
              "    <tr>\n",
              "      <th>...</th>\n",
              "      <td>...</td>\n",
              "      <td>...</td>\n",
              "      <td>...</td>\n",
              "      <td>...</td>\n",
              "      <td>...</td>\n",
              "      <td>...</td>\n",
              "    </tr>\n",
              "    <tr>\n",
              "      <th>27753439</th>\n",
              "      <td>283228</td>\n",
              "      <td>8542</td>\n",
              "      <td>4.5</td>\n",
              "      <td>1379882795</td>\n",
              "      <td>7885</td>\n",
              "      <td>283227</td>\n",
              "    </tr>\n",
              "    <tr>\n",
              "      <th>27753440</th>\n",
              "      <td>283228</td>\n",
              "      <td>8712</td>\n",
              "      <td>4.5</td>\n",
              "      <td>1379882751</td>\n",
              "      <td>8029</td>\n",
              "      <td>283227</td>\n",
              "    </tr>\n",
              "    <tr>\n",
              "      <th>27753441</th>\n",
              "      <td>283228</td>\n",
              "      <td>34405</td>\n",
              "      <td>4.5</td>\n",
              "      <td>1379882889</td>\n",
              "      <td>10299</td>\n",
              "      <td>283227</td>\n",
              "    </tr>\n",
              "    <tr>\n",
              "      <th>27753442</th>\n",
              "      <td>283228</td>\n",
              "      <td>44761</td>\n",
              "      <td>4.5</td>\n",
              "      <td>1354159524</td>\n",
              "      <td>10959</td>\n",
              "      <td>283227</td>\n",
              "    </tr>\n",
              "    <tr>\n",
              "      <th>27753443</th>\n",
              "      <td>283228</td>\n",
              "      <td>54286</td>\n",
              "      <td>4.5</td>\n",
              "      <td>1354159718</td>\n",
              "      <td>12034</td>\n",
              "      <td>283227</td>\n",
              "    </tr>\n",
              "  </tbody>\n",
              "</table>\n",
              "<p>27753444 rows × 6 columns</p>\n",
              "</div>"
            ],
            "text/plain": [
              "          userId  movieId  rating   timestamp  movieIdCat  userIdCat\n",
              "0              1      307     3.5  1256677221         304          0\n",
              "1              1      481     3.5  1256677456         477          0\n",
              "2              1     1091     1.5  1256677471        1069          0\n",
              "3              1     1257     4.5  1256677460        1229          0\n",
              "4              1     1449     4.5  1256677264        1414          0\n",
              "...          ...      ...     ...         ...         ...        ...\n",
              "27753439  283228     8542     4.5  1379882795        7885     283227\n",
              "27753440  283228     8712     4.5  1379882751        8029     283227\n",
              "27753441  283228    34405     4.5  1379882889       10299     283227\n",
              "27753442  283228    44761     4.5  1354159524       10959     283227\n",
              "27753443  283228    54286     4.5  1354159718       12034     283227\n",
              "\n",
              "[27753444 rows x 6 columns]"
            ]
          },
          "metadata": {
            "tags": []
          },
          "execution_count": 7
        }
      ]
    },
    {
      "cell_type": "code",
      "metadata": {
        "id": "zDG2yhkMO7z5",
        "colab_type": "code",
        "colab": {}
      },
      "source": [
        "from sklearn.model_selection import train_test_split\n",
        "train, test = train_test_split(orig_df, test_size=0.2)"
      ],
      "execution_count": 0,
      "outputs": []
    },
    {
      "cell_type": "code",
      "metadata": {
        "id": "2alJRUrdO75d",
        "colab_type": "code",
        "outputId": "a6d96a2e-86d8-4477-f367-7d5a50d91565",
        "colab": {
          "base_uri": "https://localhost:8080/",
          "height": 34
        }
      },
      "source": [
        "import keras\n",
        "from IPython.display import SVG\n",
        "from keras.optimizers import Adam\n",
        "from keras.utils.vis_utils import model_to_dot\n",
        "n_users, n_movies = len(orig_df.userIdCat.unique()), len(orig_df.movieIdCat.unique())\n",
        "n_latent_factors = 3"
      ],
      "execution_count": 0,
      "outputs": [
        {
          "output_type": "stream",
          "text": [
            "Using TensorFlow backend.\n"
          ],
          "name": "stderr"
        }
      ]
    },
    {
      "cell_type": "code",
      "metadata": {
        "id": "KZoi2cg6O8BT",
        "colab_type": "code",
        "colab": {}
      },
      "source": [
        "n_latent_factors_user = 5\n",
        "n_latent_factors_movie = 8\n",
        "\n",
        "movie_input = keras.layers.Input(shape=[1],name='Movie')\n",
        "movie_embedding = keras.layers.Embedding(n_movies + 1, n_latent_factors_movie, name='Movie-Embedding')(movie_input)\n",
        "movie_vec = keras.layers.Flatten(name='FlattenMovies')(movie_embedding)\n",
        "movie_vec = keras.layers.Dropout(0.2)(movie_vec)\n",
        "\n",
        "\n",
        "user_input = keras.layers.Input(shape=[1],name='User')\n",
        "user_vec = keras.layers.Flatten(name='FlattenUsers')(keras.layers.Embedding(n_users + 1, n_latent_factors_user,name='User-Embedding')(user_input))\n",
        "user_vec = keras.layers.Dropout(0.2)(user_vec)\n",
        "\n",
        "\n",
        "concat = keras.layers.concatenate([movie_vec, user_vec], axis=-1)\n",
        "concat_dropout = keras.layers.Dropout(0.2)(concat)\n",
        "dense = keras.layers.Dense(200,name='FullyConnected')(concat)\n",
        "dropout_1 = keras.layers.Dropout(0.2,name='Dropout')(dense)\n",
        "dense_2 = keras.layers.Dense(100,name='FullyConnected-1')(concat)\n",
        "dropout_2 = keras.layers.Dropout(0.2,name='Dropout')(dense_2)\n",
        "dense_3 = keras.layers.Dense(50,name='FullyConnected-2')(dense_2)\n",
        "dropout_3 = keras.layers.Dropout(0.2,name='Dropout')(dense_3)\n",
        "dense_4 = keras.layers.Dense(20,name='FullyConnected-3', activation='relu')(dense_3)\n",
        "\n",
        "\n",
        "result = keras.layers.Dense(1, activation='relu',name='Activation')(dense_4)\n",
        "adam = Adam(lr=0.005)\n",
        "model = keras.Model([user_input, movie_input], result)\n",
        "model.compile(optimizer=adam,loss= 'mean_absolute_error')"
      ],
      "execution_count": 0,
      "outputs": []
    },
    {
      "cell_type": "code",
      "metadata": {
        "id": "YAjzk0aaO8KE",
        "colab_type": "code",
        "outputId": "768705fd-2570-4a69-f158-481a7e847f47",
        "colab": {
          "base_uri": "https://localhost:8080/",
          "height": 625
        }
      },
      "source": [
        "model.summary()"
      ],
      "execution_count": 0,
      "outputs": [
        {
          "output_type": "stream",
          "text": [
            "Model: \"model_1\"\n",
            "__________________________________________________________________________________________________\n",
            "Layer (type)                    Output Shape         Param #     Connected to                     \n",
            "==================================================================================================\n",
            "Movie (InputLayer)              (None, 1)            0                                            \n",
            "__________________________________________________________________________________________________\n",
            "User (InputLayer)               (None, 1)            0                                            \n",
            "__________________________________________________________________________________________________\n",
            "Movie-Embedding (Embedding)     (None, 1, 8)         431120      Movie[0][0]                      \n",
            "__________________________________________________________________________________________________\n",
            "User-Embedding (Embedding)      (None, 1, 5)         1416145     User[0][0]                       \n",
            "__________________________________________________________________________________________________\n",
            "FlattenMovies (Flatten)         (None, 8)            0           Movie-Embedding[0][0]            \n",
            "__________________________________________________________________________________________________\n",
            "FlattenUsers (Flatten)          (None, 5)            0           User-Embedding[0][0]             \n",
            "__________________________________________________________________________________________________\n",
            "dropout_1 (Dropout)             (None, 8)            0           FlattenMovies[0][0]              \n",
            "__________________________________________________________________________________________________\n",
            "dropout_2 (Dropout)             (None, 5)            0           FlattenUsers[0][0]               \n",
            "__________________________________________________________________________________________________\n",
            "concatenate_1 (Concatenate)     (None, 13)           0           dropout_1[0][0]                  \n",
            "                                                                 dropout_2[0][0]                  \n",
            "__________________________________________________________________________________________________\n",
            "FullyConnected-1 (Dense)        (None, 100)          1400        concatenate_1[0][0]              \n",
            "__________________________________________________________________________________________________\n",
            "FullyConnected-2 (Dense)        (None, 50)           5050        FullyConnected-1[0][0]           \n",
            "__________________________________________________________________________________________________\n",
            "FullyConnected-3 (Dense)        (None, 20)           1020        FullyConnected-2[0][0]           \n",
            "__________________________________________________________________________________________________\n",
            "Activation (Dense)              (None, 1)            21          FullyConnected-3[0][0]           \n",
            "==================================================================================================\n",
            "Total params: 1,854,756\n",
            "Trainable params: 1,854,756\n",
            "Non-trainable params: 0\n",
            "__________________________________________________________________________________________________\n"
          ],
          "name": "stdout"
        }
      ]
    },
    {
      "cell_type": "code",
      "metadata": {
        "id": "a0yqhPioO8NB",
        "colab_type": "code",
        "outputId": "e2ae7c00-8374-4b6d-bda1-0d3d0eb4b179",
        "colab": {
          "base_uri": "https://localhost:8080/",
          "height": 330
        }
      },
      "source": [
        "history = model.fit([train.userIdCat, train.movieIdCat], train.rating, epochs=9, verbose=1)"
      ],
      "execution_count": 0,
      "outputs": [
        {
          "output_type": "stream",
          "text": [
            "Epoch 1/9\n",
            "22202755/22202755 [==============================] - 2980s 134us/step - loss: 0.6616\n",
            "Epoch 2/9\n",
            "22202755/22202755 [==============================] - 2975s 134us/step - loss: 0.6608\n",
            "Epoch 3/9\n",
            "22202755/22202755 [==============================] - 2985s 134us/step - loss: 0.6602\n",
            "Epoch 4/9\n",
            "22202755/22202755 [==============================] - 2984s 134us/step - loss: 0.6599\n",
            "Epoch 5/9\n",
            "22202755/22202755 [==============================] - 2959s 133us/step - loss: 0.6595\n",
            "Epoch 6/9\n",
            "22202755/22202755 [==============================] - 2963s 133us/step - loss: 0.6593\n",
            "Epoch 7/9\n",
            "22202755/22202755 [==============================] - 2949s 133us/step - loss: 0.6590\n",
            "Epoch 8/9\n",
            "22202755/22202755 [==============================] - 3073s 138us/step - loss: 0.6588\n",
            "Epoch 9/9\n",
            "22202755/22202755 [==============================] - 2954s 133us/step - loss: 0.6587\n"
          ],
          "name": "stdout"
        }
      ]
    },
    {
      "cell_type": "code",
      "metadata": {
        "id": "GB1ClHS7O8UD",
        "colab_type": "code",
        "colab": {}
      },
      "source": [
        "model.save('reco_model1.h5')"
      ],
      "execution_count": 0,
      "outputs": []
    },
    {
      "cell_type": "code",
      "metadata": {
        "id": "rem-xs-ukxSn",
        "colab_type": "code",
        "outputId": "0ab8a4ec-31df-4aa8-e629-5a71e1dd4aca",
        "colab": {
          "base_uri": "https://localhost:8080/",
          "height": 89
        }
      },
      "source": [
        "from keras.models import load_model\n",
        "model = load_model('reco_model.h5')"
      ],
      "execution_count": 0,
      "outputs": [
        {
          "output_type": "stream",
          "text": [
            "Using TensorFlow backend.\n",
            "/usr/local/lib/python3.6/dist-packages/tensorflow/python/framework/indexed_slices.py:434: UserWarning: Converting sparse IndexedSlices to a dense Tensor of unknown shape. This may consume a large amount of memory.\n",
            "  \"Converting sparse IndexedSlices to a dense Tensor of unknown shape. \"\n"
          ],
          "name": "stderr"
        }
      ]
    },
    {
      "cell_type": "code",
      "metadata": {
        "id": "9qiHSA8rO8QR",
        "colab_type": "code",
        "outputId": "ac7e8a9f-6a8d-408b-e6fc-78a222dd15ed",
        "colab": {
          "base_uri": "https://localhost:8080/",
          "height": 34
        }
      },
      "source": [
        "from sklearn.metrics import mean_absolute_error\n",
        "print(mean_absolute_error(test['rating'], model.predict([test.userIdCat, test.movieIdCat])))"
      ],
      "execution_count": 0,
      "outputs": [
        {
          "output_type": "stream",
          "text": [
            "0.6664797103083782\n"
          ],
          "name": "stdout"
        }
      ]
    },
    {
      "cell_type": "code",
      "metadata": {
        "id": "Oq6gJ709917I",
        "colab_type": "code",
        "outputId": "0a8ae151-384e-4e62-c569-147340eaae64",
        "colab": {
          "base_uri": "https://localhost:8080/",
          "height": 34
        }
      },
      "source": [
        "from sklearn.metrics import mean_absolute_error\n",
        "print(mean_absolute_error(test['rating'], model.predict([test.userIdCat, test.movieIdCat])))"
      ],
      "execution_count": 0,
      "outputs": [
        {
          "output_type": "stream",
          "text": [
            "0.6430068997195159\n"
          ],
          "name": "stdout"
        }
      ]
    },
    {
      "cell_type": "code",
      "metadata": {
        "id": "H9Txpt4pO7sc",
        "colab_type": "code",
        "outputId": "39145c02-e7b0-4181-ba45-8fd11f467a46",
        "colab": {
          "base_uri": "https://localhost:8080/",
          "height": 34
        }
      },
      "source": [
        "from sklearn.metrics import mean_squared_error\n",
        "from math import sqrt\n",
        "\n",
        "rmse = sqrt(mean_squared_error(test['rating'], model.predict([test.userIdCat, test.movieIdCat])))\n",
        "rmse"
      ],
      "execution_count": 0,
      "outputs": [
        {
          "output_type": "execute_result",
          "data": {
            "text/plain": [
              "0.8870687625367878"
            ]
          },
          "metadata": {
            "tags": []
          },
          "execution_count": 15
        }
      ]
    },
    {
      "cell_type": "code",
      "metadata": {
        "id": "rByUn21d-wtw",
        "colab_type": "code",
        "outputId": "2a801a94-661b-4b64-d824-2156687ef654",
        "colab": {
          "base_uri": "https://localhost:8080/",
          "height": 34
        }
      },
      "source": [
        "from sklearn.metrics import mean_squared_error\n",
        "from math import sqrt\n",
        "\n",
        "rmse = sqrt(mean_squared_error(test['rating'], model.predict([test.userIdCat, test.movieIdCat])))\n",
        "rmse"
      ],
      "execution_count": 0,
      "outputs": [
        {
          "output_type": "execute_result",
          "data": {
            "text/plain": [
              "0.8857591336200893"
            ]
          },
          "metadata": {
            "tags": []
          },
          "execution_count": 18
        }
      ]
    },
    {
      "cell_type": "code",
      "metadata": {
        "id": "J9jtXEkzOlyu",
        "colab_type": "code",
        "colab": {}
      },
      "source": [
        "orig_df['predicted_val'] = model.predict([orig_df.userIdCat, orig_df.movieIdCat])"
      ],
      "execution_count": 0,
      "outputs": []
    },
    {
      "cell_type": "code",
      "metadata": {
        "id": "9Rz-qJDRcTky",
        "colab_type": "code",
        "outputId": "ae212b43-ea2c-46d6-fa85-dac181f1552c",
        "colab": {
          "base_uri": "https://localhost:8080/",
          "height": 139
        }
      },
      "source": [
        "predicted_val"
      ],
      "execution_count": 0,
      "outputs": [
        {
          "output_type": "execute_result",
          "data": {
            "text/plain": [
              "array([[4.0789895],\n",
              "       [3.5941312],\n",
              "       [2.9966621],\n",
              "       ...,\n",
              "       [4.600849 ],\n",
              "       [4.601058 ],\n",
              "       [4.4601736]], dtype=float32)"
            ]
          },
          "metadata": {
            "tags": []
          },
          "execution_count": 21
        }
      ]
    },
    {
      "cell_type": "code",
      "metadata": {
        "id": "BnHVDXu9KofW",
        "colab_type": "code",
        "outputId": "9693d90e-a698-4d60-d3cc-57462505c81e",
        "colab": {
          "base_uri": "https://localhost:8080/",
          "height": 206
        }
      },
      "source": [
        "orig_df.tail()"
      ],
      "execution_count": 0,
      "outputs": [
        {
          "output_type": "execute_result",
          "data": {
            "text/html": [
              "<div>\n",
              "<style scoped>\n",
              "    .dataframe tbody tr th:only-of-type {\n",
              "        vertical-align: middle;\n",
              "    }\n",
              "\n",
              "    .dataframe tbody tr th {\n",
              "        vertical-align: top;\n",
              "    }\n",
              "\n",
              "    .dataframe thead th {\n",
              "        text-align: right;\n",
              "    }\n",
              "</style>\n",
              "<table border=\"1\" class=\"dataframe\">\n",
              "  <thead>\n",
              "    <tr style=\"text-align: right;\">\n",
              "      <th></th>\n",
              "      <th>userId</th>\n",
              "      <th>movieId</th>\n",
              "      <th>rating</th>\n",
              "      <th>timestamp</th>\n",
              "      <th>movieIdCat</th>\n",
              "      <th>userIdCat</th>\n",
              "      <th>predicted_val</th>\n",
              "    </tr>\n",
              "  </thead>\n",
              "  <tbody>\n",
              "    <tr>\n",
              "      <th>27753439</th>\n",
              "      <td>283228</td>\n",
              "      <td>8542</td>\n",
              "      <td>4.5</td>\n",
              "      <td>1379882795</td>\n",
              "      <td>7885</td>\n",
              "      <td>283227</td>\n",
              "      <td>4.790021</td>\n",
              "    </tr>\n",
              "    <tr>\n",
              "      <th>27753440</th>\n",
              "      <td>283228</td>\n",
              "      <td>8712</td>\n",
              "      <td>4.5</td>\n",
              "      <td>1379882751</td>\n",
              "      <td>8029</td>\n",
              "      <td>283227</td>\n",
              "      <td>4.444968</td>\n",
              "    </tr>\n",
              "    <tr>\n",
              "      <th>27753441</th>\n",
              "      <td>283228</td>\n",
              "      <td>34405</td>\n",
              "      <td>4.5</td>\n",
              "      <td>1379882889</td>\n",
              "      <td>10299</td>\n",
              "      <td>283227</td>\n",
              "      <td>4.600849</td>\n",
              "    </tr>\n",
              "    <tr>\n",
              "      <th>27753442</th>\n",
              "      <td>283228</td>\n",
              "      <td>44761</td>\n",
              "      <td>4.5</td>\n",
              "      <td>1354159524</td>\n",
              "      <td>10959</td>\n",
              "      <td>283227</td>\n",
              "      <td>4.601058</td>\n",
              "    </tr>\n",
              "    <tr>\n",
              "      <th>27753443</th>\n",
              "      <td>283228</td>\n",
              "      <td>54286</td>\n",
              "      <td>4.5</td>\n",
              "      <td>1354159718</td>\n",
              "      <td>12034</td>\n",
              "      <td>283227</td>\n",
              "      <td>4.460174</td>\n",
              "    </tr>\n",
              "  </tbody>\n",
              "</table>\n",
              "</div>"
            ],
            "text/plain": [
              "          userId  movieId  rating  ...  movieIdCat  userIdCat  predicted_val\n",
              "27753439  283228     8542     4.5  ...        7885     283227       4.790021\n",
              "27753440  283228     8712     4.5  ...        8029     283227       4.444968\n",
              "27753441  283228    34405     4.5  ...       10299     283227       4.600849\n",
              "27753442  283228    44761     4.5  ...       10959     283227       4.601058\n",
              "27753443  283228    54286     4.5  ...       12034     283227       4.460174\n",
              "\n",
              "[5 rows x 7 columns]"
            ]
          },
          "metadata": {
            "tags": []
          },
          "execution_count": 11
        }
      ]
    },
    {
      "cell_type": "code",
      "metadata": {
        "id": "y023q8AFLiqd",
        "colab_type": "code",
        "outputId": "04be2fa4-a4c2-45fb-a7d2-d1bd99b39eb5",
        "colab": {
          "base_uri": "https://localhost:8080/",
          "height": 34
        }
      },
      "source": [
        "import numpy as np\n",
        "model.predict([np.array([283227]), np.array([7885])])\n",
        " \t"
      ],
      "execution_count": 0,
      "outputs": [
        {
          "output_type": "execute_result",
          "data": {
            "text/plain": [
              "array([[4.7900214]], dtype=float32)"
            ]
          },
          "metadata": {
            "tags": []
          },
          "execution_count": 15
        }
      ]
    },
    {
      "cell_type": "code",
      "metadata": {
        "id": "piARO-50N99p",
        "colab_type": "code",
        "outputId": "0945f1ea-83be-4205-eb37-6ebfd5ff3770",
        "colab": {
          "base_uri": "https://localhost:8080/",
          "height": 34
        }
      },
      "source": [
        "import numpy as np\n",
        "model.predict([np.array([0]), np.array([477])])"
      ],
      "execution_count": 0,
      "outputs": [
        {
          "output_type": "execute_result",
          "data": {
            "text/plain": [
              "array([[3.5941312]], dtype=float32)"
            ]
          },
          "metadata": {
            "tags": []
          },
          "execution_count": 19
        }
      ]
    },
    {
      "cell_type": "code",
      "metadata": {
        "id": "7HoNlW0r10o4",
        "colab_type": "code",
        "outputId": "a5f0da5f-a2ee-4ef5-c324-b6152a813bdb",
        "colab": {
          "base_uri": "https://localhost:8080/",
          "height": 201
        }
      },
      "source": [
        "def PredictedRating(orig_df):\n",
        "  return model.predict([orig_df.userIdCat, orig_df.movieIdCat])\n",
        "\n",
        "orig_df.apply(PredictedRating, axis=1)"
      ],
      "execution_count": 0,
      "outputs": [
        {
          "output_type": "error",
          "ename": "NameError",
          "evalue": "ignored",
          "traceback": [
            "\u001b[0;31m---------------------------------------------------------------------------\u001b[0m",
            "\u001b[0;31mNameError\u001b[0m                                 Traceback (most recent call last)",
            "\u001b[0;32m<ipython-input-1-b71de821e4ec>\u001b[0m in \u001b[0;36m<module>\u001b[0;34m()\u001b[0m\n\u001b[1;32m      2\u001b[0m   \u001b[0;32mreturn\u001b[0m \u001b[0mmodel\u001b[0m\u001b[0;34m.\u001b[0m\u001b[0mpredict\u001b[0m\u001b[0;34m(\u001b[0m\u001b[0;34m[\u001b[0m\u001b[0morig_df\u001b[0m\u001b[0;34m.\u001b[0m\u001b[0muserIdCat\u001b[0m\u001b[0;34m,\u001b[0m \u001b[0morig_df\u001b[0m\u001b[0;34m.\u001b[0m\u001b[0mmovieIdCat\u001b[0m\u001b[0;34m]\u001b[0m\u001b[0;34m)\u001b[0m\u001b[0;34m\u001b[0m\u001b[0;34m\u001b[0m\u001b[0m\n\u001b[1;32m      3\u001b[0m \u001b[0;34m\u001b[0m\u001b[0m\n\u001b[0;32m----> 4\u001b[0;31m \u001b[0morig_df\u001b[0m\u001b[0;34m.\u001b[0m\u001b[0mapply\u001b[0m\u001b[0;34m(\u001b[0m\u001b[0mPredictedRating\u001b[0m\u001b[0;34m,\u001b[0m \u001b[0maxis\u001b[0m\u001b[0;34m=\u001b[0m\u001b[0;36m1\u001b[0m\u001b[0;34m)\u001b[0m\u001b[0;34m\u001b[0m\u001b[0;34m\u001b[0m\u001b[0m\n\u001b[0m",
            "\u001b[0;31mNameError\u001b[0m: name 'orig_df' is not defined"
          ]
        }
      ]
    },
    {
      "cell_type": "code",
      "metadata": {
        "id": "aruq6IYtnNkt",
        "colab_type": "code",
        "outputId": "6603363a-3715-4ee7-bffe-f7b45a9f6d6f",
        "colab": {
          "base_uri": "https://localhost:8080/",
          "height": 416
        }
      },
      "source": [
        "[test.userId, test.movieId]"
      ],
      "execution_count": 0,
      "outputs": [
        {
          "output_type": "execute_result",
          "data": {
            "text/plain": [
              "[26612138    271754\n",
              " 7482153      77053\n",
              " 8342738      85884\n",
              " 27059756    276197\n",
              " 24283796    248326\n",
              "              ...  \n",
              " 27457060    280172\n",
              " 10970865    112697\n",
              " 14987213    153194\n",
              " 24506388    250535\n",
              " 9969474     102681\n",
              " Name: userId, Length: 5550689, dtype: int32, 26612138     1189\n",
              " 7482153     15406\n",
              " 8342738        40\n",
              " 27059756     6205\n",
              " 24283796     1041\n",
              "             ...  \n",
              " 27457060    15580\n",
              " 10970865    10255\n",
              " 14987213     6754\n",
              " 24506388     2110\n",
              " 9969474      2436\n",
              " Name: movieId, Length: 5550689, dtype: int32]"
            ]
          },
          "metadata": {
            "tags": []
          },
          "execution_count": 13
        }
      ]
    },
    {
      "cell_type": "code",
      "metadata": {
        "id": "ip0kR79ko5o_",
        "colab_type": "code",
        "colab": {}
      },
      "source": [
        ""
      ],
      "execution_count": 0,
      "outputs": []
    },
    {
      "cell_type": "code",
      "metadata": {
        "id": "8TAqDcWpomOo",
        "colab_type": "code",
        "outputId": "dbb953e5-701d-4176-8ad3-aca4f4f86a7f",
        "colab": {
          "base_uri": "https://localhost:8080/",
          "height": 225
        }
      },
      "source": [
        "test.userId"
      ],
      "execution_count": 0,
      "outputs": [
        {
          "output_type": "execute_result",
          "data": {
            "text/plain": [
              "26612138    271754\n",
              "7482153      77053\n",
              "8342738      85884\n",
              "27059756    276197\n",
              "24283796    248326\n",
              "             ...  \n",
              "27457060    280172\n",
              "10970865    112697\n",
              "14987213    153194\n",
              "24506388    250535\n",
              "9969474     102681\n",
              "Name: userId, Length: 5550689, dtype: int32"
            ]
          },
          "metadata": {
            "tags": []
          },
          "execution_count": 15
        }
      ]
    },
    {
      "cell_type": "code",
      "metadata": {
        "id": "Qs_7pNW_owtX",
        "colab_type": "code",
        "outputId": "4ae7329a-99d4-4715-b373-b3f508926b1d",
        "colab": {
          "base_uri": "https://localhost:8080/",
          "height": 225
        }
      },
      "source": [
        "test.movieId"
      ],
      "execution_count": 0,
      "outputs": [
        {
          "output_type": "execute_result",
          "data": {
            "text/plain": [
              "26612138     1189\n",
              "7482153     15406\n",
              "8342738        40\n",
              "27059756     6205\n",
              "24283796     1041\n",
              "            ...  \n",
              "27457060    15580\n",
              "10970865    10255\n",
              "14987213     6754\n",
              "24506388     2110\n",
              "9969474      2436\n",
              "Name: movieId, Length: 5550689, dtype: int32"
            ]
          },
          "metadata": {
            "tags": []
          },
          "execution_count": 16
        }
      ]
    },
    {
      "cell_type": "code",
      "metadata": {
        "id": "YL2ra4CHk9Hq",
        "colab_type": "code",
        "outputId": "6d293232-486b-41bf-b5f5-b9f612364927",
        "colab": {
          "base_uri": "https://localhost:8080/",
          "height": 166
        }
      },
      "source": [
        "model.predict([test.userId, test.movieId])"
      ],
      "execution_count": 0,
      "outputs": [
        {
          "output_type": "error",
          "ename": "NameError",
          "evalue": "ignored",
          "traceback": [
            "\u001b[0;31m---------------------------------------------------------------------------\u001b[0m",
            "\u001b[0;31mNameError\u001b[0m                                 Traceback (most recent call last)",
            "\u001b[0;32m<ipython-input-2-4106b259fb5b>\u001b[0m in \u001b[0;36m<module>\u001b[0;34m()\u001b[0m\n\u001b[0;32m----> 1\u001b[0;31m \u001b[0mmodel\u001b[0m\u001b[0;34m.\u001b[0m\u001b[0mpredict\u001b[0m\u001b[0;34m(\u001b[0m\u001b[0;34m[\u001b[0m\u001b[0mtest\u001b[0m\u001b[0;34m.\u001b[0m\u001b[0muserId\u001b[0m\u001b[0;34m,\u001b[0m \u001b[0mtest\u001b[0m\u001b[0;34m.\u001b[0m\u001b[0mmovieId\u001b[0m\u001b[0;34m]\u001b[0m\u001b[0;34m)\u001b[0m\u001b[0;34m\u001b[0m\u001b[0;34m\u001b[0m\u001b[0m\n\u001b[0m",
            "\u001b[0;31mNameError\u001b[0m: name 'model' is not defined"
          ]
        }
      ]
    },
    {
      "cell_type": "code",
      "metadata": {
        "id": "snXW1qk_dr8H",
        "colab_type": "code",
        "colab": {}
      },
      "source": [
        "users_vs_rated_movies_dict = orig_df.groupby('userId')['movieId'].apply(list).to_dict()"
      ],
      "execution_count": 0,
      "outputs": []
    },
    {
      "cell_type": "code",
      "metadata": {
        "id": "XzEeIYhnf51u",
        "colab_type": "code",
        "colab": {}
      },
      "source": [
        "movies = pd.read_csv('movies.csv')\n",
        "all_movies_dict = pd.Series(movies['title'].values,index=movies['movieId']).to_dict()\n",
        "users_vs_unrated_movies_dict = \\\n",
        "{k: list(set(all_movies_dict.keys()) - set(v)) for k,v in users_vs_rated_movies_dict.items()}\n",
        "users_vs_unrated_movies_dict[1]"
      ],
      "execution_count": 0,
      "outputs": []
    },
    {
      "cell_type": "code",
      "metadata": {
        "id": "MS-jgZ0RK9pB",
        "colab_type": "code",
        "colab": {}
      },
      "source": [
        ""
      ],
      "execution_count": 0,
      "outputs": []
    },
    {
      "cell_type": "code",
      "metadata": {
        "id": "7g0wHwjYK9up",
        "colab_type": "code",
        "colab": {}
      },
      "source": [
        ""
      ],
      "execution_count": 0,
      "outputs": []
    },
    {
      "cell_type": "code",
      "metadata": {
        "id": "Nfn-SmPNK-by",
        "colab_type": "code",
        "colab": {}
      },
      "source": [
        ""
      ],
      "execution_count": 0,
      "outputs": []
    },
    {
      "cell_type": "code",
      "metadata": {
        "id": "SBEI7Vf_K9kL",
        "colab_type": "code",
        "colab": {}
      },
      "source": [
        ""
      ],
      "execution_count": 0,
      "outputs": []
    },
    {
      "cell_type": "code",
      "metadata": {
        "id": "-RXyGLmZet34",
        "colab_type": "code",
        "outputId": "8f0d1c20-2de3-4eab-c9de-de8c7a061f5e",
        "colab": {
          "base_uri": "https://localhost:8080/",
          "height": 186
        }
      },
      "source": [
        "users_vs_unrated_movies_dict = \\\n",
        "{k: list(set(all_movies_dict.keys()) - set(v)) for k,v in users_vs_rated_movies_dict.items()}"
      ],
      "execution_count": 0,
      "outputs": [
        {
          "output_type": "error",
          "ename": "NameError",
          "evalue": "ignored",
          "traceback": [
            "\u001b[0;31m---------------------------------------------------------------------------\u001b[0m",
            "\u001b[0;31mNameError\u001b[0m                                 Traceback (most recent call last)",
            "\u001b[0;32m<ipython-input-1-41db39fc2316>\u001b[0m in \u001b[0;36m<module>\u001b[0;34m()\u001b[0m\n\u001b[0;32m----> 1\u001b[0;31m \u001b[0musers_vs_unrated_movies_dict\u001b[0m \u001b[0;34m=\u001b[0m \u001b[0;34m{\u001b[0m\u001b[0mk\u001b[0m\u001b[0;34m:\u001b[0m \u001b[0mlist\u001b[0m\u001b[0;34m(\u001b[0m\u001b[0mset\u001b[0m\u001b[0;34m(\u001b[0m\u001b[0mall_movies_dict\u001b[0m\u001b[0;34m.\u001b[0m\u001b[0mkeys\u001b[0m\u001b[0;34m(\u001b[0m\u001b[0;34m)\u001b[0m\u001b[0;34m)\u001b[0m \u001b[0;34m-\u001b[0m \u001b[0mset\u001b[0m\u001b[0;34m(\u001b[0m\u001b[0mv\u001b[0m\u001b[0;34m)\u001b[0m\u001b[0;34m)\u001b[0m \u001b[0;32mfor\u001b[0m \u001b[0mk\u001b[0m\u001b[0;34m,\u001b[0m\u001b[0mv\u001b[0m \u001b[0;32min\u001b[0m \u001b[0musers_vs_rated_movies_dict\u001b[0m\u001b[0;34m.\u001b[0m\u001b[0mitems\u001b[0m\u001b[0;34m(\u001b[0m\u001b[0;34m)\u001b[0m\u001b[0;34m}\u001b[0m\u001b[0;34m\u001b[0m\u001b[0;34m\u001b[0m\u001b[0m\n\u001b[0m",
            "\u001b[0;31mNameError\u001b[0m: name 'users_vs_rated_movies_dict' is not defined"
          ]
        }
      ]
    },
    {
      "cell_type": "code",
      "metadata": {
        "id": "Ec88uDJRe1tf",
        "colab_type": "code",
        "colab": {}
      },
      "source": [
        "users_vs_rated_movies_dict[1]"
      ],
      "execution_count": 0,
      "outputs": []
    },
    {
      "cell_type": "code",
      "metadata": {
        "id": "BYnjoHFuVkRp",
        "colab_type": "code",
        "colab": {}
      },
      "source": [
        ""
      ],
      "execution_count": 0,
      "outputs": []
    },
    {
      "cell_type": "code",
      "metadata": {
        "id": "Ga0jheNMVkgr",
        "colab_type": "code",
        "outputId": "f4496b89-122b-49cd-9796-a2aad0000ed6",
        "colab": {
          "base_uri": "https://localhost:8080/",
          "height": 424
        }
      },
      "source": [
        "orig_df[['userId','movieId','rating','predicted_val']]"
      ],
      "execution_count": 0,
      "outputs": [
        {
          "output_type": "execute_result",
          "data": {
            "text/html": [
              "<div>\n",
              "<style scoped>\n",
              "    .dataframe tbody tr th:only-of-type {\n",
              "        vertical-align: middle;\n",
              "    }\n",
              "\n",
              "    .dataframe tbody tr th {\n",
              "        vertical-align: top;\n",
              "    }\n",
              "\n",
              "    .dataframe thead th {\n",
              "        text-align: right;\n",
              "    }\n",
              "</style>\n",
              "<table border=\"1\" class=\"dataframe\">\n",
              "  <thead>\n",
              "    <tr style=\"text-align: right;\">\n",
              "      <th></th>\n",
              "      <th>userId</th>\n",
              "      <th>movieId</th>\n",
              "      <th>rating</th>\n",
              "      <th>predicted_val</th>\n",
              "    </tr>\n",
              "  </thead>\n",
              "  <tbody>\n",
              "    <tr>\n",
              "      <th>0</th>\n",
              "      <td>1</td>\n",
              "      <td>307</td>\n",
              "      <td>3.5</td>\n",
              "      <td>4.078990</td>\n",
              "    </tr>\n",
              "    <tr>\n",
              "      <th>1</th>\n",
              "      <td>1</td>\n",
              "      <td>481</td>\n",
              "      <td>3.5</td>\n",
              "      <td>3.594131</td>\n",
              "    </tr>\n",
              "    <tr>\n",
              "      <th>2</th>\n",
              "      <td>1</td>\n",
              "      <td>1091</td>\n",
              "      <td>1.5</td>\n",
              "      <td>2.996662</td>\n",
              "    </tr>\n",
              "    <tr>\n",
              "      <th>3</th>\n",
              "      <td>1</td>\n",
              "      <td>1257</td>\n",
              "      <td>4.5</td>\n",
              "      <td>4.021384</td>\n",
              "    </tr>\n",
              "    <tr>\n",
              "      <th>4</th>\n",
              "      <td>1</td>\n",
              "      <td>1449</td>\n",
              "      <td>4.5</td>\n",
              "      <td>4.025838</td>\n",
              "    </tr>\n",
              "    <tr>\n",
              "      <th>...</th>\n",
              "      <td>...</td>\n",
              "      <td>...</td>\n",
              "      <td>...</td>\n",
              "      <td>...</td>\n",
              "    </tr>\n",
              "    <tr>\n",
              "      <th>27753439</th>\n",
              "      <td>283228</td>\n",
              "      <td>8542</td>\n",
              "      <td>4.5</td>\n",
              "      <td>4.790021</td>\n",
              "    </tr>\n",
              "    <tr>\n",
              "      <th>27753440</th>\n",
              "      <td>283228</td>\n",
              "      <td>8712</td>\n",
              "      <td>4.5</td>\n",
              "      <td>4.444968</td>\n",
              "    </tr>\n",
              "    <tr>\n",
              "      <th>27753441</th>\n",
              "      <td>283228</td>\n",
              "      <td>34405</td>\n",
              "      <td>4.5</td>\n",
              "      <td>4.600849</td>\n",
              "    </tr>\n",
              "    <tr>\n",
              "      <th>27753442</th>\n",
              "      <td>283228</td>\n",
              "      <td>44761</td>\n",
              "      <td>4.5</td>\n",
              "      <td>4.601058</td>\n",
              "    </tr>\n",
              "    <tr>\n",
              "      <th>27753443</th>\n",
              "      <td>283228</td>\n",
              "      <td>54286</td>\n",
              "      <td>4.5</td>\n",
              "      <td>4.460174</td>\n",
              "    </tr>\n",
              "  </tbody>\n",
              "</table>\n",
              "<p>27753444 rows × 4 columns</p>\n",
              "</div>"
            ],
            "text/plain": [
              "          userId  movieId  rating  predicted_val\n",
              "0              1      307     3.5       4.078990\n",
              "1              1      481     3.5       3.594131\n",
              "2              1     1091     1.5       2.996662\n",
              "3              1     1257     4.5       4.021384\n",
              "4              1     1449     4.5       4.025838\n",
              "...          ...      ...     ...            ...\n",
              "27753439  283228     8542     4.5       4.790021\n",
              "27753440  283228     8712     4.5       4.444968\n",
              "27753441  283228    34405     4.5       4.600849\n",
              "27753442  283228    44761     4.5       4.601058\n",
              "27753443  283228    54286     4.5       4.460174\n",
              "\n",
              "[27753444 rows x 4 columns]"
            ]
          },
          "metadata": {
            "tags": []
          },
          "execution_count": 13
        }
      ]
    },
    {
      "cell_type": "code",
      "metadata": {
        "id": "lsDj9qdyWOMl",
        "colab_type": "code",
        "outputId": "c7485027-3f23-4e25-fb5a-486519bebcb0",
        "colab": {
          "base_uri": "https://localhost:8080/",
          "height": 206
        }
      },
      "source": [
        "unseen_df = pd.read_csv(\"users_vs_unrated_movies_long_format.csv\")\n",
        "unseen_df.head()"
      ],
      "execution_count": 0,
      "outputs": [
        {
          "output_type": "execute_result",
          "data": {
            "text/html": [
              "<div>\n",
              "<style scoped>\n",
              "    .dataframe tbody tr th:only-of-type {\n",
              "        vertical-align: middle;\n",
              "    }\n",
              "\n",
              "    .dataframe tbody tr th {\n",
              "        vertical-align: top;\n",
              "    }\n",
              "\n",
              "    .dataframe thead th {\n",
              "        text-align: right;\n",
              "    }\n",
              "</style>\n",
              "<table border=\"1\" class=\"dataframe\">\n",
              "  <thead>\n",
              "    <tr style=\"text-align: right;\">\n",
              "      <th></th>\n",
              "      <th>users</th>\n",
              "      <th>unseen_movies</th>\n",
              "    </tr>\n",
              "  </thead>\n",
              "  <tbody>\n",
              "    <tr>\n",
              "      <th>0</th>\n",
              "      <td>1</td>\n",
              "      <td>4.0</td>\n",
              "    </tr>\n",
              "    <tr>\n",
              "      <th>1</th>\n",
              "      <td>1</td>\n",
              "      <td>5.0</td>\n",
              "    </tr>\n",
              "    <tr>\n",
              "      <th>2</th>\n",
              "      <td>1</td>\n",
              "      <td>7.0</td>\n",
              "    </tr>\n",
              "    <tr>\n",
              "      <th>3</th>\n",
              "      <td>1</td>\n",
              "      <td>8.0</td>\n",
              "    </tr>\n",
              "    <tr>\n",
              "      <th>4</th>\n",
              "      <td>1</td>\n",
              "      <td>9.0</td>\n",
              "    </tr>\n",
              "  </tbody>\n",
              "</table>\n",
              "</div>"
            ],
            "text/plain": [
              "   users  unseen_movies\n",
              "0      1            4.0\n",
              "1      1            5.0\n",
              "2      1            7.0\n",
              "3      1            8.0\n",
              "4      1            9.0"
            ]
          },
          "metadata": {
            "tags": []
          },
          "execution_count": 16
        }
      ]
    },
    {
      "cell_type": "code",
      "metadata": {
        "id": "WZ5I1SFgXI9g",
        "colab_type": "code",
        "outputId": "68caa686-d3ad-4396-acef-71a2e540e311",
        "colab": {
          "base_uri": "https://localhost:8080/",
          "height": 206
        }
      },
      "source": [
        "unseen_df.astype({'unseen_movies': 'int32'})\n",
        "unseen_df.head()"
      ],
      "execution_count": 0,
      "outputs": [
        {
          "output_type": "execute_result",
          "data": {
            "text/html": [
              "<div>\n",
              "<style scoped>\n",
              "    .dataframe tbody tr th:only-of-type {\n",
              "        vertical-align: middle;\n",
              "    }\n",
              "\n",
              "    .dataframe tbody tr th {\n",
              "        vertical-align: top;\n",
              "    }\n",
              "\n",
              "    .dataframe thead th {\n",
              "        text-align: right;\n",
              "    }\n",
              "</style>\n",
              "<table border=\"1\" class=\"dataframe\">\n",
              "  <thead>\n",
              "    <tr style=\"text-align: right;\">\n",
              "      <th></th>\n",
              "      <th>users</th>\n",
              "      <th>unseen_movies</th>\n",
              "    </tr>\n",
              "  </thead>\n",
              "  <tbody>\n",
              "    <tr>\n",
              "      <th>0</th>\n",
              "      <td>1</td>\n",
              "      <td>4.0</td>\n",
              "    </tr>\n",
              "    <tr>\n",
              "      <th>1</th>\n",
              "      <td>1</td>\n",
              "      <td>5.0</td>\n",
              "    </tr>\n",
              "    <tr>\n",
              "      <th>2</th>\n",
              "      <td>1</td>\n",
              "      <td>7.0</td>\n",
              "    </tr>\n",
              "    <tr>\n",
              "      <th>3</th>\n",
              "      <td>1</td>\n",
              "      <td>8.0</td>\n",
              "    </tr>\n",
              "    <tr>\n",
              "      <th>4</th>\n",
              "      <td>1</td>\n",
              "      <td>9.0</td>\n",
              "    </tr>\n",
              "  </tbody>\n",
              "</table>\n",
              "</div>"
            ],
            "text/plain": [
              "   users  unseen_movies\n",
              "0      1            4.0\n",
              "1      1            5.0\n",
              "2      1            7.0\n",
              "3      1            8.0\n",
              "4      1            9.0"
            ]
          },
          "metadata": {
            "tags": []
          },
          "execution_count": 17
        }
      ]
    },
    {
      "cell_type": "code",
      "metadata": {
        "id": "dS3sehg4ZbiJ",
        "colab_type": "code",
        "outputId": "ba99b750-8ebe-4481-de0c-3eb72d588d7a",
        "colab": {
          "base_uri": "https://localhost:8080/",
          "height": 384
        }
      },
      "source": [
        "unseen_df['movieIdCat1'] = unseen_df['unseen_movies'].apply(lambda x:orig_df['movieIdCat'][orig_df['movieId']==x].iloc[0])\n",
        "unseen_df['userIdCat1'] = unseen_df['users'].apply(lambda x:orig_df['userIdCat'][orig_df['userId']==x].iloc[0])"
      ],
      "execution_count": 0,
      "outputs": [
        {
          "output_type": "error",
          "ename": "KeyboardInterrupt",
          "evalue": "ignored",
          "traceback": [
            "\u001b[0;31m---------------------------------------------------------------------------\u001b[0m",
            "\u001b[0;31mKeyboardInterrupt\u001b[0m                         Traceback (most recent call last)",
            "\u001b[0;32m<ipython-input-35-3902f52f532f>\u001b[0m in \u001b[0;36m<module>\u001b[0;34m()\u001b[0m\n\u001b[0;32m----> 1\u001b[0;31m \u001b[0munseen_df\u001b[0m\u001b[0;34m[\u001b[0m\u001b[0;34m'movieIdCat1'\u001b[0m\u001b[0;34m]\u001b[0m \u001b[0;34m=\u001b[0m \u001b[0munseen_df\u001b[0m\u001b[0;34m[\u001b[0m\u001b[0;34m'unseen_movies'\u001b[0m\u001b[0;34m]\u001b[0m\u001b[0;34m.\u001b[0m\u001b[0mapply\u001b[0m\u001b[0;34m(\u001b[0m\u001b[0;32mlambda\u001b[0m \u001b[0mx\u001b[0m\u001b[0;34m:\u001b[0m\u001b[0morig_df\u001b[0m\u001b[0;34m[\u001b[0m\u001b[0;34m'movieIdCat'\u001b[0m\u001b[0;34m]\u001b[0m\u001b[0;34m[\u001b[0m\u001b[0morig_df\u001b[0m\u001b[0;34m[\u001b[0m\u001b[0;34m'movieId'\u001b[0m\u001b[0;34m]\u001b[0m\u001b[0;34m==\u001b[0m\u001b[0mx\u001b[0m\u001b[0;34m]\u001b[0m\u001b[0;34m.\u001b[0m\u001b[0miloc\u001b[0m\u001b[0;34m[\u001b[0m\u001b[0;36m0\u001b[0m\u001b[0;34m]\u001b[0m\u001b[0;34m)\u001b[0m\u001b[0;34m\u001b[0m\u001b[0;34m\u001b[0m\u001b[0m\n\u001b[0m\u001b[1;32m      2\u001b[0m \u001b[0munseen_df\u001b[0m\u001b[0;34m[\u001b[0m\u001b[0;34m'userIdCat1'\u001b[0m\u001b[0;34m]\u001b[0m \u001b[0;34m=\u001b[0m \u001b[0munseen_df\u001b[0m\u001b[0;34m[\u001b[0m\u001b[0;34m'users'\u001b[0m\u001b[0;34m]\u001b[0m\u001b[0;34m.\u001b[0m\u001b[0mapply\u001b[0m\u001b[0;34m(\u001b[0m\u001b[0;32mlambda\u001b[0m \u001b[0mx\u001b[0m\u001b[0;34m:\u001b[0m\u001b[0morig_df\u001b[0m\u001b[0;34m[\u001b[0m\u001b[0;34m'userIdCat'\u001b[0m\u001b[0;34m]\u001b[0m\u001b[0;34m[\u001b[0m\u001b[0morig_df\u001b[0m\u001b[0;34m[\u001b[0m\u001b[0;34m'userId'\u001b[0m\u001b[0;34m]\u001b[0m\u001b[0;34m==\u001b[0m\u001b[0mx\u001b[0m\u001b[0;34m]\u001b[0m\u001b[0;34m.\u001b[0m\u001b[0miloc\u001b[0m\u001b[0;34m[\u001b[0m\u001b[0;36m0\u001b[0m\u001b[0;34m]\u001b[0m\u001b[0;34m)\u001b[0m\u001b[0;34m\u001b[0m\u001b[0;34m\u001b[0m\u001b[0m\n",
            "\u001b[0;32m/usr/local/lib/python3.6/dist-packages/pandas/core/series.py\u001b[0m in \u001b[0;36mapply\u001b[0;34m(self, func, convert_dtype, args, **kwds)\u001b[0m\n\u001b[1;32m   3846\u001b[0m             \u001b[0;32melse\u001b[0m\u001b[0;34m:\u001b[0m\u001b[0;34m\u001b[0m\u001b[0;34m\u001b[0m\u001b[0m\n\u001b[1;32m   3847\u001b[0m                 \u001b[0mvalues\u001b[0m \u001b[0;34m=\u001b[0m \u001b[0mself\u001b[0m\u001b[0;34m.\u001b[0m\u001b[0mastype\u001b[0m\u001b[0;34m(\u001b[0m\u001b[0mobject\u001b[0m\u001b[0;34m)\u001b[0m\u001b[0;34m.\u001b[0m\u001b[0mvalues\u001b[0m\u001b[0;34m\u001b[0m\u001b[0;34m\u001b[0m\u001b[0m\n\u001b[0;32m-> 3848\u001b[0;31m                 \u001b[0mmapped\u001b[0m \u001b[0;34m=\u001b[0m \u001b[0mlib\u001b[0m\u001b[0;34m.\u001b[0m\u001b[0mmap_infer\u001b[0m\u001b[0;34m(\u001b[0m\u001b[0mvalues\u001b[0m\u001b[0;34m,\u001b[0m \u001b[0mf\u001b[0m\u001b[0;34m,\u001b[0m \u001b[0mconvert\u001b[0m\u001b[0;34m=\u001b[0m\u001b[0mconvert_dtype\u001b[0m\u001b[0;34m)\u001b[0m\u001b[0;34m\u001b[0m\u001b[0;34m\u001b[0m\u001b[0m\n\u001b[0m\u001b[1;32m   3849\u001b[0m \u001b[0;34m\u001b[0m\u001b[0m\n\u001b[1;32m   3850\u001b[0m         \u001b[0;32mif\u001b[0m \u001b[0mlen\u001b[0m\u001b[0;34m(\u001b[0m\u001b[0mmapped\u001b[0m\u001b[0;34m)\u001b[0m \u001b[0;32mand\u001b[0m \u001b[0misinstance\u001b[0m\u001b[0;34m(\u001b[0m\u001b[0mmapped\u001b[0m\u001b[0;34m[\u001b[0m\u001b[0;36m0\u001b[0m\u001b[0;34m]\u001b[0m\u001b[0;34m,\u001b[0m \u001b[0mSeries\u001b[0m\u001b[0;34m)\u001b[0m\u001b[0;34m:\u001b[0m\u001b[0;34m\u001b[0m\u001b[0;34m\u001b[0m\u001b[0m\n",
            "\u001b[0;32mpandas/_libs/lib.pyx\u001b[0m in \u001b[0;36mpandas._libs.lib.map_infer\u001b[0;34m()\u001b[0m\n",
            "\u001b[0;32m<ipython-input-35-3902f52f532f>\u001b[0m in \u001b[0;36m<lambda>\u001b[0;34m(x)\u001b[0m\n\u001b[0;32m----> 1\u001b[0;31m \u001b[0munseen_df\u001b[0m\u001b[0;34m[\u001b[0m\u001b[0;34m'movieIdCat1'\u001b[0m\u001b[0;34m]\u001b[0m \u001b[0;34m=\u001b[0m \u001b[0munseen_df\u001b[0m\u001b[0;34m[\u001b[0m\u001b[0;34m'unseen_movies'\u001b[0m\u001b[0;34m]\u001b[0m\u001b[0;34m.\u001b[0m\u001b[0mapply\u001b[0m\u001b[0;34m(\u001b[0m\u001b[0;32mlambda\u001b[0m \u001b[0mx\u001b[0m\u001b[0;34m:\u001b[0m\u001b[0morig_df\u001b[0m\u001b[0;34m[\u001b[0m\u001b[0;34m'movieIdCat'\u001b[0m\u001b[0;34m]\u001b[0m\u001b[0;34m[\u001b[0m\u001b[0morig_df\u001b[0m\u001b[0;34m[\u001b[0m\u001b[0;34m'movieId'\u001b[0m\u001b[0;34m]\u001b[0m\u001b[0;34m==\u001b[0m\u001b[0mx\u001b[0m\u001b[0;34m]\u001b[0m\u001b[0;34m.\u001b[0m\u001b[0miloc\u001b[0m\u001b[0;34m[\u001b[0m\u001b[0;36m0\u001b[0m\u001b[0;34m]\u001b[0m\u001b[0;34m)\u001b[0m\u001b[0;34m\u001b[0m\u001b[0;34m\u001b[0m\u001b[0m\n\u001b[0m\u001b[1;32m      2\u001b[0m \u001b[0munseen_df\u001b[0m\u001b[0;34m[\u001b[0m\u001b[0;34m'userIdCat1'\u001b[0m\u001b[0;34m]\u001b[0m \u001b[0;34m=\u001b[0m \u001b[0munseen_df\u001b[0m\u001b[0;34m[\u001b[0m\u001b[0;34m'users'\u001b[0m\u001b[0;34m]\u001b[0m\u001b[0;34m.\u001b[0m\u001b[0mapply\u001b[0m\u001b[0;34m(\u001b[0m\u001b[0;32mlambda\u001b[0m \u001b[0mx\u001b[0m\u001b[0;34m:\u001b[0m\u001b[0morig_df\u001b[0m\u001b[0;34m[\u001b[0m\u001b[0;34m'userIdCat'\u001b[0m\u001b[0;34m]\u001b[0m\u001b[0;34m[\u001b[0m\u001b[0morig_df\u001b[0m\u001b[0;34m[\u001b[0m\u001b[0;34m'userId'\u001b[0m\u001b[0;34m]\u001b[0m\u001b[0;34m==\u001b[0m\u001b[0mx\u001b[0m\u001b[0;34m]\u001b[0m\u001b[0;34m.\u001b[0m\u001b[0miloc\u001b[0m\u001b[0;34m[\u001b[0m\u001b[0;36m0\u001b[0m\u001b[0;34m]\u001b[0m\u001b[0;34m)\u001b[0m\u001b[0;34m\u001b[0m\u001b[0;34m\u001b[0m\u001b[0m\n",
            "\u001b[0;32m/usr/local/lib/python3.6/dist-packages/pandas/core/ops/common.py\u001b[0m in \u001b[0;36mnew_method\u001b[0;34m(self, other)\u001b[0m\n\u001b[1;32m     62\u001b[0m         \u001b[0mother\u001b[0m \u001b[0;34m=\u001b[0m \u001b[0mitem_from_zerodim\u001b[0m\u001b[0;34m(\u001b[0m\u001b[0mother\u001b[0m\u001b[0;34m)\u001b[0m\u001b[0;34m\u001b[0m\u001b[0;34m\u001b[0m\u001b[0m\n\u001b[1;32m     63\u001b[0m \u001b[0;34m\u001b[0m\u001b[0m\n\u001b[0;32m---> 64\u001b[0;31m         \u001b[0;32mreturn\u001b[0m \u001b[0mmethod\u001b[0m\u001b[0;34m(\u001b[0m\u001b[0mself\u001b[0m\u001b[0;34m,\u001b[0m \u001b[0mother\u001b[0m\u001b[0;34m)\u001b[0m\u001b[0;34m\u001b[0m\u001b[0;34m\u001b[0m\u001b[0m\n\u001b[0m\u001b[1;32m     65\u001b[0m \u001b[0;34m\u001b[0m\u001b[0m\n\u001b[1;32m     66\u001b[0m     \u001b[0;32mreturn\u001b[0m \u001b[0mnew_method\u001b[0m\u001b[0;34m\u001b[0m\u001b[0;34m\u001b[0m\u001b[0m\n",
            "\u001b[0;32m/usr/local/lib/python3.6/dist-packages/pandas/core/ops/__init__.py\u001b[0m in \u001b[0;36mwrapper\u001b[0;34m(self, other)\u001b[0m\n\u001b[1;32m    527\u001b[0m         \u001b[0mrvalues\u001b[0m \u001b[0;34m=\u001b[0m \u001b[0mextract_array\u001b[0m\u001b[0;34m(\u001b[0m\u001b[0mother\u001b[0m\u001b[0;34m,\u001b[0m \u001b[0mextract_numpy\u001b[0m\u001b[0;34m=\u001b[0m\u001b[0;32mTrue\u001b[0m\u001b[0;34m)\u001b[0m\u001b[0;34m\u001b[0m\u001b[0;34m\u001b[0m\u001b[0m\n\u001b[1;32m    528\u001b[0m \u001b[0;34m\u001b[0m\u001b[0m\n\u001b[0;32m--> 529\u001b[0;31m         \u001b[0mres_values\u001b[0m \u001b[0;34m=\u001b[0m \u001b[0mcomparison_op\u001b[0m\u001b[0;34m(\u001b[0m\u001b[0mlvalues\u001b[0m\u001b[0;34m,\u001b[0m \u001b[0mrvalues\u001b[0m\u001b[0;34m,\u001b[0m \u001b[0mop\u001b[0m\u001b[0;34m)\u001b[0m\u001b[0;34m\u001b[0m\u001b[0;34m\u001b[0m\u001b[0m\n\u001b[0m\u001b[1;32m    530\u001b[0m \u001b[0;34m\u001b[0m\u001b[0m\n\u001b[1;32m    531\u001b[0m         \u001b[0;32mreturn\u001b[0m \u001b[0m_construct_result\u001b[0m\u001b[0;34m(\u001b[0m\u001b[0mself\u001b[0m\u001b[0;34m,\u001b[0m \u001b[0mres_values\u001b[0m\u001b[0;34m,\u001b[0m \u001b[0mindex\u001b[0m\u001b[0;34m=\u001b[0m\u001b[0mself\u001b[0m\u001b[0;34m.\u001b[0m\u001b[0mindex\u001b[0m\u001b[0;34m,\u001b[0m \u001b[0mname\u001b[0m\u001b[0;34m=\u001b[0m\u001b[0mres_name\u001b[0m\u001b[0;34m)\u001b[0m\u001b[0;34m\u001b[0m\u001b[0;34m\u001b[0m\u001b[0m\n",
            "\u001b[0;32m/usr/local/lib/python3.6/dist-packages/pandas/core/ops/array_ops.py\u001b[0m in \u001b[0;36mcomparison_op\u001b[0;34m(left, right, op)\u001b[0m\n\u001b[1;32m    251\u001b[0m         \u001b[0mmethod\u001b[0m \u001b[0;34m=\u001b[0m \u001b[0mgetattr\u001b[0m\u001b[0;34m(\u001b[0m\u001b[0mlvalues\u001b[0m\u001b[0;34m,\u001b[0m \u001b[0mop_name\u001b[0m\u001b[0;34m)\u001b[0m\u001b[0;34m\u001b[0m\u001b[0;34m\u001b[0m\u001b[0m\n\u001b[1;32m    252\u001b[0m         \u001b[0;32mwith\u001b[0m \u001b[0mnp\u001b[0m\u001b[0;34m.\u001b[0m\u001b[0merrstate\u001b[0m\u001b[0;34m(\u001b[0m\u001b[0mall\u001b[0m\u001b[0;34m=\u001b[0m\u001b[0;34m\"ignore\"\u001b[0m\u001b[0;34m)\u001b[0m\u001b[0;34m:\u001b[0m\u001b[0;34m\u001b[0m\u001b[0;34m\u001b[0m\u001b[0m\n\u001b[0;32m--> 253\u001b[0;31m             \u001b[0mres_values\u001b[0m \u001b[0;34m=\u001b[0m \u001b[0mmethod\u001b[0m\u001b[0;34m(\u001b[0m\u001b[0mrvalues\u001b[0m\u001b[0;34m)\u001b[0m\u001b[0;34m\u001b[0m\u001b[0;34m\u001b[0m\u001b[0m\n\u001b[0m\u001b[1;32m    254\u001b[0m \u001b[0;34m\u001b[0m\u001b[0m\n\u001b[1;32m    255\u001b[0m         \u001b[0;32mif\u001b[0m \u001b[0mres_values\u001b[0m \u001b[0;32mis\u001b[0m \u001b[0mNotImplemented\u001b[0m\u001b[0;34m:\u001b[0m\u001b[0;34m\u001b[0m\u001b[0;34m\u001b[0m\u001b[0m\n",
            "\u001b[0;31mKeyboardInterrupt\u001b[0m: "
          ]
        }
      ]
    },
    {
      "cell_type": "code",
      "metadata": {
        "id": "RVd0_Dl5wjyc",
        "colab_type": "code",
        "colab": {}
      },
      "source": [
        ""
      ],
      "execution_count": 0,
      "outputs": []
    },
    {
      "cell_type": "code",
      "metadata": {
        "id": "TSu6_ExrwkQ6",
        "colab_type": "code",
        "colab": {}
      },
      "source": [
        ""
      ],
      "execution_count": 0,
      "outputs": []
    },
    {
      "cell_type": "code",
      "metadata": {
        "id": "NAaCMhcsaAwF",
        "colab_type": "code",
        "outputId": "1c298f23-a02e-494f-bee2-77e9325c220d",
        "colab": {
          "base_uri": "https://localhost:8080/",
          "height": 206
        }
      },
      "source": [
        "orig_df.tail()"
      ],
      "execution_count": 0,
      "outputs": [
        {
          "output_type": "execute_result",
          "data": {
            "text/html": [
              "<div>\n",
              "<style scoped>\n",
              "    .dataframe tbody tr th:only-of-type {\n",
              "        vertical-align: middle;\n",
              "    }\n",
              "\n",
              "    .dataframe tbody tr th {\n",
              "        vertical-align: top;\n",
              "    }\n",
              "\n",
              "    .dataframe thead th {\n",
              "        text-align: right;\n",
              "    }\n",
              "</style>\n",
              "<table border=\"1\" class=\"dataframe\">\n",
              "  <thead>\n",
              "    <tr style=\"text-align: right;\">\n",
              "      <th></th>\n",
              "      <th>userId</th>\n",
              "      <th>movieId</th>\n",
              "      <th>rating</th>\n",
              "      <th>timestamp</th>\n",
              "      <th>movieIdCat</th>\n",
              "      <th>userIdCat</th>\n",
              "      <th>predicted_val</th>\n",
              "    </tr>\n",
              "  </thead>\n",
              "  <tbody>\n",
              "    <tr>\n",
              "      <th>27753439</th>\n",
              "      <td>283228</td>\n",
              "      <td>8542</td>\n",
              "      <td>4.5</td>\n",
              "      <td>1379882795</td>\n",
              "      <td>7885</td>\n",
              "      <td>283227</td>\n",
              "      <td>4.790021</td>\n",
              "    </tr>\n",
              "    <tr>\n",
              "      <th>27753440</th>\n",
              "      <td>283228</td>\n",
              "      <td>8712</td>\n",
              "      <td>4.5</td>\n",
              "      <td>1379882751</td>\n",
              "      <td>8029</td>\n",
              "      <td>283227</td>\n",
              "      <td>4.444968</td>\n",
              "    </tr>\n",
              "    <tr>\n",
              "      <th>27753441</th>\n",
              "      <td>283228</td>\n",
              "      <td>34405</td>\n",
              "      <td>4.5</td>\n",
              "      <td>1379882889</td>\n",
              "      <td>10299</td>\n",
              "      <td>283227</td>\n",
              "      <td>4.600849</td>\n",
              "    </tr>\n",
              "    <tr>\n",
              "      <th>27753442</th>\n",
              "      <td>283228</td>\n",
              "      <td>44761</td>\n",
              "      <td>4.5</td>\n",
              "      <td>1354159524</td>\n",
              "      <td>10959</td>\n",
              "      <td>283227</td>\n",
              "      <td>4.601058</td>\n",
              "    </tr>\n",
              "    <tr>\n",
              "      <th>27753443</th>\n",
              "      <td>283228</td>\n",
              "      <td>54286</td>\n",
              "      <td>4.5</td>\n",
              "      <td>1354159718</td>\n",
              "      <td>12034</td>\n",
              "      <td>283227</td>\n",
              "      <td>4.460174</td>\n",
              "    </tr>\n",
              "  </tbody>\n",
              "</table>\n",
              "</div>"
            ],
            "text/plain": [
              "          userId  movieId  rating  ...  movieIdCat  userIdCat  predicted_val\n",
              "27753439  283228     8542     4.5  ...        7885     283227       4.790021\n",
              "27753440  283228     8712     4.5  ...        8029     283227       4.444968\n",
              "27753441  283228    34405     4.5  ...       10299     283227       4.600849\n",
              "27753442  283228    44761     4.5  ...       10959     283227       4.601058\n",
              "27753443  283228    54286     4.5  ...       12034     283227       4.460174\n",
              "\n",
              "[5 rows x 7 columns]"
            ]
          },
          "metadata": {
            "tags": []
          },
          "execution_count": 25
        }
      ]
    },
    {
      "cell_type": "code",
      "metadata": {
        "id": "iZcIt6HCaj3J",
        "colab_type": "code",
        "outputId": "6fcc2192-b45a-4f67-9b50-423765c2e2d2",
        "colab": {
          "base_uri": "https://localhost:8080/",
          "height": 34
        }
      },
      "source": [
        "orig_df['movieIdCat'][orig_df['movieId']==54286].iloc[0]"
      ],
      "execution_count": 0,
      "outputs": [
        {
          "output_type": "execute_result",
          "data": {
            "text/plain": [
              "12034"
            ]
          },
          "metadata": {
            "tags": []
          },
          "execution_count": 32
        }
      ]
    },
    {
      "cell_type": "code",
      "metadata": {
        "id": "_rIETcSvZpA9",
        "colab_type": "code",
        "outputId": "758a0759-7a3a-4d7f-ed3f-883a7a5548bc",
        "colab": {
          "base_uri": "https://localhost:8080/",
          "height": 206
        }
      },
      "source": [
        "unseen_df.tail()"
      ],
      "execution_count": 0,
      "outputs": [
        {
          "output_type": "execute_result",
          "data": {
            "text/html": [
              "<div>\n",
              "<style scoped>\n",
              "    .dataframe tbody tr th:only-of-type {\n",
              "        vertical-align: middle;\n",
              "    }\n",
              "\n",
              "    .dataframe tbody tr th {\n",
              "        vertical-align: top;\n",
              "    }\n",
              "\n",
              "    .dataframe thead th {\n",
              "        text-align: right;\n",
              "    }\n",
              "</style>\n",
              "<table border=\"1\" class=\"dataframe\">\n",
              "  <thead>\n",
              "    <tr style=\"text-align: right;\">\n",
              "      <th></th>\n",
              "      <th>users</th>\n",
              "      <th>unseen_movies</th>\n",
              "      <th>movieIdCat</th>\n",
              "      <th>userIdCat</th>\n",
              "    </tr>\n",
              "  </thead>\n",
              "  <tbody>\n",
              "    <tr>\n",
              "      <th>5841169</th>\n",
              "      <td>610</td>\n",
              "      <td>32728.0</td>\n",
              "      <td>5860</td>\n",
              "      <td>609</td>\n",
              "    </tr>\n",
              "    <tr>\n",
              "      <th>5841170</th>\n",
              "      <td>610</td>\n",
              "      <td>163809.0</td>\n",
              "      <td>9386</td>\n",
              "      <td>609</td>\n",
              "    </tr>\n",
              "    <tr>\n",
              "      <th>5841171</th>\n",
              "      <td>610</td>\n",
              "      <td>32743.0</td>\n",
              "      <td>5861</td>\n",
              "      <td>609</td>\n",
              "    </tr>\n",
              "    <tr>\n",
              "      <th>5841172</th>\n",
              "      <td>610</td>\n",
              "      <td>98279.0</td>\n",
              "      <td>8039</td>\n",
              "      <td>609</td>\n",
              "    </tr>\n",
              "    <tr>\n",
              "      <th>5841173</th>\n",
              "      <td>610</td>\n",
              "      <td>98296.0</td>\n",
              "      <td>8040</td>\n",
              "      <td>609</td>\n",
              "    </tr>\n",
              "  </tbody>\n",
              "</table>\n",
              "</div>"
            ],
            "text/plain": [
              "         users  unseen_movies  movieIdCat  userIdCat\n",
              "5841169    610        32728.0        5860        609\n",
              "5841170    610       163809.0        9386        609\n",
              "5841171    610        32743.0        5861        609\n",
              "5841172    610        98279.0        8039        609\n",
              "5841173    610        98296.0        8040        609"
            ]
          },
          "metadata": {
            "tags": []
          },
          "execution_count": 22
        }
      ]
    },
    {
      "cell_type": "code",
      "metadata": {
        "id": "7a3s4Ng4Zyjl",
        "colab_type": "code",
        "outputId": "080e1dee-542e-4e76-bb00-ff4be3d99af3",
        "colab": {
          "base_uri": "https://localhost:8080/",
          "height": 34
        }
      },
      "source": [
        "c = orig_df.movieId.astype('category')\n",
        "\n",
        "d = dict(enumerate(c.cat.categories))\n",
        "print(d[12034])"
      ],
      "execution_count": 0,
      "outputs": [
        {
          "output_type": "stream",
          "text": [
            "54286\n"
          ],
          "name": "stdout"
        }
      ]
    }
  ]
}