{
 "cells": [
  {
   "cell_type": "code",
   "execution_count": 1,
   "metadata": {},
   "outputs": [],
   "source": [
    "import findspark\n",
    "findspark.init()\n",
    "\n",
    "import pyspark\n",
    "from pyspark import SparkConf, SparkContext\n",
    "from pyspark.mllib.recommendation import ALS, Rating\n",
    "from pyspark.mllib.evaluation import RegressionMetrics, RankingMetrics\n",
    "\n",
    "import numpy as np\n",
    "import pandas as pd\n",
    "from itertools import islice\n",
    "from collections import defaultdict"
   ]
  },
  {
   "cell_type": "code",
   "execution_count": 2,
   "metadata": {},
   "outputs": [
    {
     "name": "stdout",
     "output_type": "stream",
     "text": [
      "\n",
      "Loading data...\n"
     ]
    }
   ],
   "source": [
    "def parseline(line):\n",
    "    fields = line.split(',')\n",
    "    userId = fields[0]\n",
    "    movieId = fields[1]\n",
    "    rating = fields[2]\n",
    "    return (userId, movieId, rating)\n",
    "    \n",
    "# pyspark set-up\n",
    "sc.setCheckpointDir('checkpoint')\n",
    "\n",
    "# Build rating object for ALS \n",
    "print(\"\\nLoading data...\")"
   ]
  },
  {
   "cell_type": "code",
   "execution_count": 3,
   "metadata": {},
   "outputs": [
    {
     "name": "stdout",
     "output_type": "stream",
     "text": [
      "Ratings : \n",
      "[Rating(user=1, product=1, rating=4.0), Rating(user=1, product=3, rating=4.0), Rating(user=1, product=6, rating=4.0)]\n"
     ]
    }
   ],
   "source": [
    "lines = sc.textFile(\"res/sample/ratings.csv\")\n",
    "parsedlines = lines.map(parseline)\n",
    "header = parsedlines.first()\n",
    "\n",
    "#filter out the header, make sure the rest looks correct\n",
    "parsedlines = parsedlines.filter(lambda line: line != header)\n",
    "\n",
    "ratings = parsedlines.map(lambda l: Rating(int(l[0]), int(l[1]), float(l[2])) ).cache()\n",
    "print(f\"Ratings : \\n{ratings.take(3)}\")"
   ]
  },
  {
   "cell_type": "code",
   "execution_count": 4,
   "metadata": {},
   "outputs": [
    {
     "name": "stdout",
     "output_type": "stream",
     "text": [
      "test Ratings : \n",
      "[Rating(user=0, product=1, rating=307.0), Rating(user=1, product=1, rating=1590.0), Rating(user=2, product=1, rating=3424.0)]\n"
     ]
    }
   ],
   "source": [
    "lines1 = sc.textFile(\"res/sample/test.csv\")\n",
    "parsedlines1 = lines1.map(parseline)\n",
    "header1 = parsedlines1.first()\n",
    "\n",
    "#filter out the header, make sure the rest looks correct\n",
    "parsedlines1 = parsedlines1.filter(lambda line: line != header1)\n",
    "\n",
    "ratings1 = parsedlines1.map(lambda l: Rating(int(l[0]), int(l[1]), float(l[2])) ).cache()\n",
    "print(f\"test Ratings : \\n{ratings1.take(3)}\")"
   ]
  },
  {
   "cell_type": "code",
   "execution_count": 5,
   "metadata": {},
   "outputs": [
    {
     "name": "stdout",
     "output_type": "stream",
     "text": [
      "Testset : \n",
      "[(0, 1), (1, 1), (2, 1)]\n"
     ]
    }
   ],
   "source": [
    "testset = ratings1.map(lambda t: (t[0], t[1]))\n",
    "print(f\"Testset : \\n{testset.take(3)}\")"
   ]
  },
  {
   "cell_type": "code",
   "execution_count": 9,
   "metadata": {},
   "outputs": [
    {
     "name": "stdout",
     "output_type": "stream",
     "text": [
      "\n",
      "Training recommendation model...\n",
      "\n",
      "Done!\n"
     ]
    }
   ],
   "source": [
    "# Build the recommendation model using Alternating Least Squares\n",
    "print(\"\\nTraining recommendation model...\")\n",
    "rank = 5\n",
    "numIterations = 20\n",
    "model = ALS.train(ratings, rank, numIterations)\n",
    "\n",
    "predictions = model.predictAll(testset).collect()\n",
    "#print(f\"Predictions : \\n{predictions}\")\n",
    "\n",
    "embedding = model.userFeatures().collect()\n",
    "print(\"\\nDone!\")"
   ]
  },
  {
   "cell_type": "code",
   "execution_count": 10,
   "metadata": {},
   "outputs": [
    {
     "data": {
      "text/html": [
       "<div>\n",
       "<style scoped>\n",
       "    .dataframe tbody tr th:only-of-type {\n",
       "        vertical-align: middle;\n",
       "    }\n",
       "\n",
       "    .dataframe tbody tr th {\n",
       "        vertical-align: top;\n",
       "    }\n",
       "\n",
       "    .dataframe thead th {\n",
       "        text-align: right;\n",
       "    }\n",
       "</style>\n",
       "<table border=\"1\" class=\"dataframe\">\n",
       "  <thead>\n",
       "    <tr style=\"text-align: right;\">\n",
       "      <th></th>\n",
       "      <th>user</th>\n",
       "      <th>product</th>\n",
       "      <th>rating</th>\n",
       "    </tr>\n",
       "  </thead>\n",
       "  <tbody>\n",
       "    <tr>\n",
       "      <th>0</th>\n",
       "      <td>160</td>\n",
       "      <td>5</td>\n",
       "      <td>2.759478</td>\n",
       "    </tr>\n",
       "    <tr>\n",
       "      <th>1</th>\n",
       "      <td>560</td>\n",
       "      <td>42</td>\n",
       "      <td>2.530827</td>\n",
       "    </tr>\n",
       "    <tr>\n",
       "      <th>2</th>\n",
       "      <td>240</td>\n",
       "      <td>14</td>\n",
       "      <td>3.895874</td>\n",
       "    </tr>\n",
       "    <tr>\n",
       "      <th>3</th>\n",
       "      <td>400</td>\n",
       "      <td>26</td>\n",
       "      <td>3.897675</td>\n",
       "    </tr>\n",
       "    <tr>\n",
       "      <th>4</th>\n",
       "      <td>480</td>\n",
       "      <td>36</td>\n",
       "      <td>4.219032</td>\n",
       "    </tr>\n",
       "  </tbody>\n",
       "</table>\n",
       "</div>"
      ],
      "text/plain": [
       "   user  product    rating\n",
       "0   160        5  2.759478\n",
       "1   560       42  2.530827\n",
       "2   240       14  3.895874\n",
       "3   400       26  3.897675\n",
       "4   480       36  4.219032"
      ]
     },
     "execution_count": 10,
     "metadata": {},
     "output_type": "execute_result"
    }
   ],
   "source": [
    "pred_df = pd.DataFrame(predictions)\n",
    "pred_df.head()\n",
    "#pred_df = pred_df[['user','product', 'title', 'rating']]\n",
    "#pred_df.to_csv(\"als_predictions.csv\", index=False, header = True)"
   ]
  },
  {
   "cell_type": "code",
   "execution_count": null,
   "metadata": {},
   "outputs": [],
   "source": []
  }
 ],
 "metadata": {
  "kernelspec": {
   "display_name": "Spark in Python 3",
   "language": "python",
   "name": "pyspark"
  },
  "language_info": {
   "codemirror_mode": {
    "name": "ipython",
    "version": 3
   },
   "file_extension": ".py",
   "mimetype": "text/x-python",
   "name": "python",
   "nbconvert_exporter": "python",
   "pygments_lexer": "ipython3",
   "version": "3.6.9"
  }
 },
 "nbformat": 4,
 "nbformat_minor": 2
}
